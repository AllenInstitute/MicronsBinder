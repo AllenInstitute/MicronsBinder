{
 "cells": [
  {
   "cell_type": "markdown",
   "metadata": {},
   "source": [
    "# Orientation/Direction Tuning\n",
    "- Compute tuning curves.\n",
    "- Determine orientation/direction selectivity of cells using permutation test (Ecker et al., 2014, Baden et al., 2016)."
   ]
  },
  {
   "cell_type": "code",
   "execution_count": 27,
   "metadata": {},
   "outputs": [],
   "source": [
    "import numpy as np\n",
    "import pandas as pd\n",
    "\n",
    "import datajoint as dj\n",
    "\n",
    "from lib.data import *\n",
    "from lib.tuning import *\n",
    "from lib.calcium import *\n",
    "from lib.plot import *\n",
    "from lib.utils import *"
   ]
  },
  {
   "cell_type": "markdown",
   "metadata": {},
   "source": [
    "## Load data tables"
   ]
  },
  {
   "cell_type": "code",
   "execution_count": 28,
   "metadata": {},
   "outputs": [],
   "source": [
    "Stimulus = load_dict(\"data/Stimulus.pkl\")\n",
    "EASETrace = load_dict(\"data/EASETrace.pkl\")\n",
    "EASETuning = load_dict(\"data/EASETuning.pkl\")"
   ]
  },
  {
   "cell_type": "markdown",
   "metadata": {},
   "source": [
    "## Pyramidal cells with functional data"
   ]
  },
  {
   "cell_type": "code",
   "execution_count": 29,
   "metadata": {},
   "outputs": [],
   "source": [
    "seg_id_list = EASETuning[\"segment_id\"]\n",
    "scan_list = EASETuning[\"scan_id\"]\n",
    "n_cells = seg_id_list.shape[0]"
   ]
  },
  {
   "cell_type": "markdown",
   "metadata": {},
   "source": [
    "## Determine orientation/direction tuned cells with permutation test\n",
    "- $p<0.01$ are significantly tuned cells."
   ]
  },
  {
   "cell_type": "code",
   "execution_count": 30,
   "metadata": {},
   "outputs": [
    {
     "name": "stdout",
     "output_type": "stream",
     "text": [
      "10 / 112 complete.\n",
      "20 / 112 complete.\n",
      "30 / 112 complete.\n",
      "40 / 112 complete.\n",
      "50 / 112 complete.\n",
      "60 / 112 complete.\n",
      "70 / 112 complete.\n",
      "80 / 112 complete.\n",
      "90 / 112 complete.\n",
      "100 / 112 complete.\n",
      "110 / 112 complete.\n"
     ]
    }
   ],
   "source": [
    "T = 10000 # Number of iterations for permutation test\n",
    "\n",
    "dsi_list = np.zeros(n_cells)\n",
    "osi_list = np.zeros(n_cells)\n",
    "dsi_pvalue = np.zeros(n_cells)\n",
    "osi_pvalue = np.zeros(n_cells)\n",
    "for i in range(n_cells):\n",
    "    \n",
    "    seg_id = seg_id_list[i]\n",
    "    scan_id = int(scan_list[seg_id_list==seg_id])\n",
    "\n",
    "    trace = get_trace(EASETrace, seg_id, scan_id, \"trace_raw\")\n",
    "    stimlab = get_stim_label(Stimulus, scan_id)\n",
    "    \n",
    "    response_array = get_peakamp_tdarray(trace, stimlab)\n",
    "    tune = tuning_curve(response_array)\n",
    "    \n",
    "    dsi_list[i] = dsi(tune)\n",
    "    osi_list[i] = osi(tune)\n",
    "    dsi_shuf, dsi_pvalue[i] = permutation_test(response_array, T, \"dsi\")\n",
    "    osi_shuf, osi_pvalue[i] = permutation_test(response_array, T, \"osi\")\n",
    "    \n",
    "    if (i+1)%10==0:\n",
    "        print(\"{} / {} complete.\".format(i+1, n_cells))"
   ]
  },
  {
   "cell_type": "code",
   "execution_count": 5,
   "metadata": {},
   "outputs": [
    {
     "data": {
      "text/html": [
       "<div>\n",
       "<style scoped>\n",
       "    .dataframe tbody tr th:only-of-type {\n",
       "        vertical-align: middle;\n",
       "    }\n",
       "\n",
       "    .dataframe tbody tr th {\n",
       "        vertical-align: top;\n",
       "    }\n",
       "\n",
       "    .dataframe thead th {\n",
       "        text-align: right;\n",
       "    }\n",
       "</style>\n",
       "<table border=\"1\" class=\"dataframe\">\n",
       "  <thead>\n",
       "    <tr style=\"text-align: right;\">\n",
       "      <th></th>\n",
       "      <th>segment_id</th>\n",
       "      <th>scan</th>\n",
       "      <th>osi</th>\n",
       "      <th>osi_p</th>\n",
       "      <th>dsi</th>\n",
       "      <th>dsi_p</th>\n",
       "    </tr>\n",
       "  </thead>\n",
       "  <tbody>\n",
       "    <tr>\n",
       "      <th>0</th>\n",
       "      <td>648518346349539895</td>\n",
       "      <td>1</td>\n",
       "      <td>0.857341</td>\n",
       "      <td>0.079</td>\n",
       "      <td>0.220618</td>\n",
       "      <td>0.918</td>\n",
       "    </tr>\n",
       "    <tr>\n",
       "      <th>1</th>\n",
       "      <td>648518346349537860</td>\n",
       "      <td>1</td>\n",
       "      <td>0.851261</td>\n",
       "      <td>0.000</td>\n",
       "      <td>0.180522</td>\n",
       "      <td>0.476</td>\n",
       "    </tr>\n",
       "    <tr>\n",
       "      <th>2</th>\n",
       "      <td>648518346349538440</td>\n",
       "      <td>1</td>\n",
       "      <td>0.893301</td>\n",
       "      <td>0.223</td>\n",
       "      <td>0.167758</td>\n",
       "      <td>0.994</td>\n",
       "    </tr>\n",
       "    <tr>\n",
       "      <th>3</th>\n",
       "      <td>648518346349538527</td>\n",
       "      <td>1</td>\n",
       "      <td>0.982902</td>\n",
       "      <td>0.504</td>\n",
       "      <td>0.935960</td>\n",
       "      <td>0.941</td>\n",
       "    </tr>\n",
       "    <tr>\n",
       "      <th>4</th>\n",
       "      <td>648518346349538209</td>\n",
       "      <td>1</td>\n",
       "      <td>0.901787</td>\n",
       "      <td>0.000</td>\n",
       "      <td>0.048472</td>\n",
       "      <td>0.924</td>\n",
       "    </tr>\n",
       "    <tr>\n",
       "      <th>...</th>\n",
       "      <td>...</td>\n",
       "      <td>...</td>\n",
       "      <td>...</td>\n",
       "      <td>...</td>\n",
       "      <td>...</td>\n",
       "      <td>...</td>\n",
       "    </tr>\n",
       "    <tr>\n",
       "      <th>107</th>\n",
       "      <td>648518346349537741</td>\n",
       "      <td>5</td>\n",
       "      <td>0.906518</td>\n",
       "      <td>0.060</td>\n",
       "      <td>0.378011</td>\n",
       "      <td>0.957</td>\n",
       "    </tr>\n",
       "    <tr>\n",
       "      <th>108</th>\n",
       "      <td>648518346349537901</td>\n",
       "      <td>5</td>\n",
       "      <td>0.933251</td>\n",
       "      <td>0.162</td>\n",
       "      <td>0.932056</td>\n",
       "      <td>0.187</td>\n",
       "    </tr>\n",
       "    <tr>\n",
       "      <th>109</th>\n",
       "      <td>648518346349538001</td>\n",
       "      <td>5</td>\n",
       "      <td>0.920036</td>\n",
       "      <td>0.127</td>\n",
       "      <td>0.921915</td>\n",
       "      <td>0.101</td>\n",
       "    </tr>\n",
       "    <tr>\n",
       "      <th>110</th>\n",
       "      <td>648518346349538251</td>\n",
       "      <td>5</td>\n",
       "      <td>0.801713</td>\n",
       "      <td>0.141</td>\n",
       "      <td>0.780844</td>\n",
       "      <td>0.172</td>\n",
       "    </tr>\n",
       "    <tr>\n",
       "      <th>111</th>\n",
       "      <td>648518346349538259</td>\n",
       "      <td>5</td>\n",
       "      <td>0.889931</td>\n",
       "      <td>0.241</td>\n",
       "      <td>0.197192</td>\n",
       "      <td>0.981</td>\n",
       "    </tr>\n",
       "  </tbody>\n",
       "</table>\n",
       "<p>112 rows × 6 columns</p>\n",
       "</div>"
      ],
      "text/plain": [
       "             segment_id  scan       osi  osi_p       dsi  dsi_p\n",
       "0    648518346349539895     1  0.857341  0.079  0.220618  0.918\n",
       "1    648518346349537860     1  0.851261  0.000  0.180522  0.476\n",
       "2    648518346349538440     1  0.893301  0.223  0.167758  0.994\n",
       "3    648518346349538527     1  0.982902  0.504  0.935960  0.941\n",
       "4    648518346349538209     1  0.901787  0.000  0.048472  0.924\n",
       "..                  ...   ...       ...    ...       ...    ...\n",
       "107  648518346349537741     5  0.906518  0.060  0.378011  0.957\n",
       "108  648518346349537901     5  0.933251  0.162  0.932056  0.187\n",
       "109  648518346349538001     5  0.920036  0.127  0.921915  0.101\n",
       "110  648518346349538251     5  0.801713  0.141  0.780844  0.172\n",
       "111  648518346349538259     5  0.889931  0.241  0.197192  0.981\n",
       "\n",
       "[112 rows x 6 columns]"
      ]
     },
     "execution_count": 5,
     "metadata": {},
     "output_type": "execute_result"
    }
   ],
   "source": [
    "# Same format as data/cell_functional_info.csv\n",
    "data = {\"segment_id\": seg_id_list,\n",
    "     \"scan\": scan_list,\n",
    "     \"osi\": osi_list, \n",
    "     \"osi_p\": osi_pvalue,\n",
    "     \"dsi\": dsi_list,\n",
    "     \"dsi_p\": dsi_pvalue}\n",
    "\n",
    "df = pd.DataFrame(data=data)\n",
    "df"
   ]
  }
 ],
 "metadata": {
  "kernelspec": {
   "display_name": "Python 3",
   "language": "python",
   "name": "python3"
  },
  "language_info": {
   "codemirror_mode": {
    "name": "ipython",
    "version": 3
   },
   "file_extension": ".py",
   "mimetype": "text/x-python",
   "name": "python",
   "nbconvert_exporter": "python",
   "pygments_lexer": "ipython3",
   "version": "3.8.5"
  }
 },
 "nbformat": 4,
 "nbformat_minor": 4
}
