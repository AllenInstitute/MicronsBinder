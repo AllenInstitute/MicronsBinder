{
 "cells": [
  {
   "cell_type": "markdown",
   "metadata": {},
   "source": [
    "# Compartment comparison  \n",
    "Comparing the mitochondria volume and mitochondrial complexity index across axons, somas, basal dendrites, and apical dendrites."
   ]
  },
  {
   "cell_type": "code",
   "execution_count": 1,
   "metadata": {},
   "outputs": [
    {
     "name": "stderr",
     "output_type": "stream",
     "text": [
      "WARNING:root:Need to pip install annotationframeworkclient to repair mesh with pychunkedgraph\n"
     ]
    }
   ],
   "source": [
    "from meshparty import trimesh_io  # first import to remove static TLS error\n",
    "\n",
    "from collections import Counter\n",
    "\n",
    "import numpy as np\n",
    "import pandas as pd\n",
    "from scipy import stats\n",
    "import matplotlib\n",
    "import matplotlib.pyplot as plt\n",
    "\n",
    "from lib import plot, u\n",
    "\n",
    "matplotlib.rc('font', family='sans-serif')\n",
    "matplotlib.rc('font', serif='Helvetica')"
   ]
  },
  {
   "cell_type": "markdown",
   "metadata": {},
   "source": [
    "# Reading data"
   ]
  },
  {
   "cell_type": "code",
   "execution_count": 2,
   "metadata": {},
   "outputs": [],
   "source": [
    "analysisids = u.readids(\"data/pyc_analysis_ids.csv\")\n",
    "completeids = u.readids(\"data/pyc_analysis_completesoma_ids.csv\")"
   ]
  },
  {
   "cell_type": "code",
   "execution_count": 3,
   "metadata": {},
   "outputs": [],
   "source": [
    "mitodf = pd.read_csv(\"data/pni_mito_analysisids_fullstats.csv\", index_col=0)"
   ]
  },
  {
   "cell_type": "code",
   "execution_count": 4,
   "metadata": {},
   "outputs": [],
   "source": [
    "mitodf = mitodf[mitodf.cellid.isin(analysisids)]"
   ]
  },
  {
   "cell_type": "code",
   "execution_count": 5,
   "metadata": {},
   "outputs": [
    {
     "data": {
      "text/html": [
       "<div>\n",
       "<style scoped>\n",
       "    .dataframe tbody tr th:only-of-type {\n",
       "        vertical-align: middle;\n",
       "    }\n",
       "\n",
       "    .dataframe tbody tr th {\n",
       "        vertical-align: top;\n",
       "    }\n",
       "\n",
       "    .dataframe thead th {\n",
       "        text-align: right;\n",
       "    }\n",
       "</style>\n",
       "<table border=\"1\" class=\"dataframe\">\n",
       "  <thead>\n",
       "    <tr style=\"text-align: right;\">\n",
       "      <th></th>\n",
       "      <th>mito_vx</th>\n",
       "      <th>ctr_pos_x_vx</th>\n",
       "      <th>ctr_pos_y_vx</th>\n",
       "      <th>ctr_pos_z_vx</th>\n",
       "      <th>bbox_beg_x_vx</th>\n",
       "      <th>bbox_beg_y_vx</th>\n",
       "      <th>bbox_beg_z_vx</th>\n",
       "      <th>bbox_end_x_vx</th>\n",
       "      <th>bbox_end_y_vx</th>\n",
       "      <th>bbox_end_z_vx</th>\n",
       "      <th>cellid</th>\n",
       "      <th>ctr_pos_x_nm</th>\n",
       "      <th>ctr_pos_y_nm</th>\n",
       "      <th>ctr_pos_z_nm</th>\n",
       "      <th>surface_area</th>\n",
       "      <th>complexityindex</th>\n",
       "      <th>compartment</th>\n",
       "      <th>pathlength</th>\n",
       "    </tr>\n",
       "    <tr>\n",
       "      <th>mito_id</th>\n",
       "      <th></th>\n",
       "      <th></th>\n",
       "      <th></th>\n",
       "      <th></th>\n",
       "      <th></th>\n",
       "      <th></th>\n",
       "      <th></th>\n",
       "      <th></th>\n",
       "      <th></th>\n",
       "      <th></th>\n",
       "      <th></th>\n",
       "      <th></th>\n",
       "      <th></th>\n",
       "      <th></th>\n",
       "      <th></th>\n",
       "      <th></th>\n",
       "      <th></th>\n",
       "      <th></th>\n",
       "    </tr>\n",
       "  </thead>\n",
       "  <tbody>\n",
       "    <tr>\n",
       "      <th>2740474</th>\n",
       "      <td>274528</td>\n",
       "      <td>91786</td>\n",
       "      <td>54770</td>\n",
       "      <td>1149</td>\n",
       "      <td>90910</td>\n",
       "      <td>54262</td>\n",
       "      <td>1075</td>\n",
       "      <td>92688</td>\n",
       "      <td>55174</td>\n",
       "      <td>1189</td>\n",
       "      <td>648518346349491311</td>\n",
       "      <td>367144</td>\n",
       "      <td>219080</td>\n",
       "      <td>45960</td>\n",
       "      <td>4.619493</td>\n",
       "      <td>31.516497</td>\n",
       "      <td>Basal</td>\n",
       "      <td>8844.850183</td>\n",
       "    </tr>\n",
       "    <tr>\n",
       "      <th>1118099</th>\n",
       "      <td>330204</td>\n",
       "      <td>62682</td>\n",
       "      <td>57352</td>\n",
       "      <td>963</td>\n",
       "      <td>62072</td>\n",
       "      <td>56704</td>\n",
       "      <td>945</td>\n",
       "      <td>63402</td>\n",
       "      <td>58050</td>\n",
       "      <td>981</td>\n",
       "      <td>648518346349491311</td>\n",
       "      <td>250728</td>\n",
       "      <td>229408</td>\n",
       "      <td>38520</td>\n",
       "      <td>4.780969</td>\n",
       "      <td>24.149679</td>\n",
       "      <td>Basal</td>\n",
       "      <td>7005.947856</td>\n",
       "    </tr>\n",
       "    <tr>\n",
       "      <th>2496428</th>\n",
       "      <td>82572</td>\n",
       "      <td>86324</td>\n",
       "      <td>49084</td>\n",
       "      <td>1425</td>\n",
       "      <td>86108</td>\n",
       "      <td>48946</td>\n",
       "      <td>1414</td>\n",
       "      <td>86514</td>\n",
       "      <td>49182</td>\n",
       "      <td>1437</td>\n",
       "      <td>648518346349491311</td>\n",
       "      <td>345296</td>\n",
       "      <td>196336</td>\n",
       "      <td>57000</td>\n",
       "      <td>1.159900</td>\n",
       "      <td>5.514730</td>\n",
       "      <td>Basal</td>\n",
       "      <td>1799.573843</td>\n",
       "    </tr>\n",
       "    <tr>\n",
       "      <th>1886895</th>\n",
       "      <td>87536</td>\n",
       "      <td>76536</td>\n",
       "      <td>38810</td>\n",
       "      <td>1592</td>\n",
       "      <td>76166</td>\n",
       "      <td>38656</td>\n",
       "      <td>1562</td>\n",
       "      <td>76858</td>\n",
       "      <td>38964</td>\n",
       "      <td>1628</td>\n",
       "      <td>648518346349491311</td>\n",
       "      <td>306144</td>\n",
       "      <td>155240</td>\n",
       "      <td>63680</td>\n",
       "      <td>1.670600</td>\n",
       "      <td>14.661304</td>\n",
       "      <td>Basal</td>\n",
       "      <td>3828.361034</td>\n",
       "    </tr>\n",
       "    <tr>\n",
       "      <th>1649845</th>\n",
       "      <td>984232</td>\n",
       "      <td>71966</td>\n",
       "      <td>39020</td>\n",
       "      <td>1221</td>\n",
       "      <td>71236</td>\n",
       "      <td>38656</td>\n",
       "      <td>1063</td>\n",
       "      <td>73346</td>\n",
       "      <td>39484</td>\n",
       "      <td>1347</td>\n",
       "      <td>648518346349491311</td>\n",
       "      <td>287864</td>\n",
       "      <td>156080</td>\n",
       "      <td>48840</td>\n",
       "      <td>12.159270</td>\n",
       "      <td>44.715253</td>\n",
       "      <td>Basal</td>\n",
       "      <td>14378.311217</td>\n",
       "    </tr>\n",
       "  </tbody>\n",
       "</table>\n",
       "</div>"
      ],
      "text/plain": [
       "         mito_vx  ctr_pos_x_vx  ctr_pos_y_vx  ctr_pos_z_vx  bbox_beg_x_vx  \\\n",
       "mito_id                                                                     \n",
       "2740474   274528         91786         54770          1149          90910   \n",
       "1118099   330204         62682         57352           963          62072   \n",
       "2496428    82572         86324         49084          1425          86108   \n",
       "1886895    87536         76536         38810          1592          76166   \n",
       "1649845   984232         71966         39020          1221          71236   \n",
       "\n",
       "         bbox_beg_y_vx  bbox_beg_z_vx  bbox_end_x_vx  bbox_end_y_vx  \\\n",
       "mito_id                                                               \n",
       "2740474          54262           1075          92688          55174   \n",
       "1118099          56704            945          63402          58050   \n",
       "2496428          48946           1414          86514          49182   \n",
       "1886895          38656           1562          76858          38964   \n",
       "1649845          38656           1063          73346          39484   \n",
       "\n",
       "         bbox_end_z_vx              cellid  ctr_pos_x_nm  ctr_pos_y_nm  \\\n",
       "mito_id                                                                  \n",
       "2740474           1189  648518346349491311        367144        219080   \n",
       "1118099            981  648518346349491311        250728        229408   \n",
       "2496428           1437  648518346349491311        345296        196336   \n",
       "1886895           1628  648518346349491311        306144        155240   \n",
       "1649845           1347  648518346349491311        287864        156080   \n",
       "\n",
       "         ctr_pos_z_nm  surface_area  complexityindex compartment    pathlength  \n",
       "mito_id                                                                         \n",
       "2740474         45960      4.619493        31.516497       Basal   8844.850183  \n",
       "1118099         38520      4.780969        24.149679       Basal   7005.947856  \n",
       "2496428         57000      1.159900         5.514730       Basal   1799.573843  \n",
       "1886895         63680      1.670600        14.661304       Basal   3828.361034  \n",
       "1649845         48840     12.159270        44.715253       Basal  14378.311217  "
      ]
     },
     "execution_count": 5,
     "metadata": {},
     "output_type": "execute_result"
    }
   ],
   "source": [
    "mitodf.head()"
   ]
  },
  {
   "cell_type": "code",
   "execution_count": 6,
   "metadata": {},
   "outputs": [
    {
     "data": {
      "text/plain": [
       "(176072, 18)"
      ]
     },
     "execution_count": 6,
     "metadata": {},
     "output_type": "execute_result"
    }
   ],
   "source": [
    "mitodf.shape"
   ]
  },
  {
   "cell_type": "markdown",
   "metadata": {},
   "source": [
    "# Basic statistics"
   ]
  },
  {
   "cell_type": "code",
   "execution_count": 7,
   "metadata": {},
   "outputs": [],
   "source": [
    "compartments = ['Axonal', 'Somatic', 'Apical', 'Basal']\n",
    "\n",
    "def printstats(statisticlist):\n",
    "    for comp, stat in zip(compartments, statisticlist):\n",
    "        print(f\"{comp}: {stat}\")"
   ]
  },
  {
   "cell_type": "code",
   "execution_count": 8,
   "metadata": {},
   "outputs": [],
   "source": [
    "# Computing the 95th percentile values\n",
    "vol_p95s = list()\n",
    "mci_p95s = list()\n",
    "\n",
    "for comp in compartments:\n",
    "    subdf = mitodf[mitodf.compartment == comp]\n",
    "    \n",
    "    vol_p95s.append(np.percentile(subdf.mito_vx * plot.DEFAULT_VX_VOL, 95))\n",
    "    mci_p95s.append(np.percentile(subdf.complexityindex, 95))"
   ]
  },
  {
   "cell_type": "code",
   "execution_count": 9,
   "metadata": {},
   "outputs": [
    {
     "name": "stdout",
     "output_type": "stream",
     "text": [
      "Axonal: 0.04214462951040001\n",
      "Somatic: 0.2407867308287998\n",
      "Apical: 0.7791474051999989\n",
      "Basal: 0.6936547374848\n"
     ]
    }
   ],
   "source": [
    "printstats(vol_p95s)"
   ]
  },
  {
   "cell_type": "code",
   "execution_count": 10,
   "metadata": {},
   "outputs": [
    {
     "name": "stdout",
     "output_type": "stream",
     "text": [
      "Axonal: 7.183863347275042\n",
      "Somatic: 23.316341263071763\n",
      "Apical: 54.99687182971786\n",
      "Basal: 49.25692355762649\n"
     ]
    }
   ],
   "source": [
    "printstats(mci_p95s)"
   ]
  },
  {
   "cell_type": "code",
   "execution_count": 11,
   "metadata": {},
   "outputs": [],
   "source": [
    "# Computing the 25th, 50th (median), and 75th percentiles\n",
    "vol_quartiles = list()\n",
    "mci_quartiles = list()\n",
    "\n",
    "for comp in compartments:\n",
    "    subdf = mitodf[mitodf.compartment == comp]\n",
    "    \n",
    "    vol_quartiles.append(np.percentile(subdf.mito_vx\n",
    "                                       * plot.DEFAULT_VX_VOL, [25, 50, 75]))\n",
    "    mci_quartiles.append(np.percentile(subdf.complexityindex, [25, 50, 75]))"
   ]
  },
  {
   "cell_type": "code",
   "execution_count": 12,
   "metadata": {},
   "outputs": [
    {
     "name": "stdout",
     "output_type": "stream",
     "text": [
      "Axonal: [0.00763601 0.01300813 0.020861  ]\n",
      "Somatic: [0.01317116 0.03263978 0.08049109]\n",
      "Apical: [0.01915026 0.06215236 0.20497679]\n",
      "Basal: [0.02652687 0.09523918 0.24218638]\n"
     ]
    }
   ],
   "source": [
    "printstats(vol_quartiles)"
   ]
  },
  {
   "cell_type": "code",
   "execution_count": 13,
   "metadata": {},
   "outputs": [
    {
     "name": "stdout",
     "output_type": "stream",
     "text": [
      "Axonal: [1.62865836 2.45647607 3.77472996]\n",
      "Somatic: [2.67307378 5.18730973 9.7578682 ]\n",
      "Apical: [ 3.43617193  7.64271002 17.75550727]\n",
      "Basal: [ 3.87872862  9.10654901 19.44942029]\n"
     ]
    }
   ],
   "source": [
    "printstats(mci_quartiles)"
   ]
  },
  {
   "cell_type": "code",
   "execution_count": 14,
   "metadata": {},
   "outputs": [
    {
     "data": {
      "text/plain": [
       "Counter({'Basal': 53318,\n",
       "         'Somatic': 90193,\n",
       "         'Axonal': 11484,\n",
       "         'Apical': 18608,\n",
       "         'Unknown': 1811,\n",
       "         'Unknown dendritic': 658})"
      ]
     },
     "execution_count": 14,
     "metadata": {},
     "output_type": "execute_result"
    }
   ],
   "source": [
    "Counter(mitodf.compartment)"
   ]
  },
  {
   "cell_type": "code",
   "execution_count": 15,
   "metadata": {},
   "outputs": [
    {
     "data": {
      "text/plain": [
       "176072"
      ]
     },
     "execution_count": 15,
     "metadata": {},
     "output_type": "execute_result"
    }
   ],
   "source": [
    "sum(Counter(mitodf.compartment).values())"
   ]
  },
  {
   "cell_type": "code",
   "execution_count": 16,
   "metadata": {},
   "outputs": [
    {
     "data": {
      "text/plain": [
       "351"
      ]
     },
     "execution_count": 16,
     "metadata": {},
     "output_type": "execute_result"
    }
   ],
   "source": [
    "len(pd.unique(mitodf.cellid))"
   ]
  },
  {
   "cell_type": "markdown",
   "metadata": {},
   "source": [
    "# Plots"
   ]
  },
  {
   "cell_type": "code",
   "execution_count": 17,
   "metadata": {},
   "outputs": [
    {
     "data": {
      "image/png": "[encoded data removed]",
      "text/plain": [
       "<Figure size 432x288 with 1 Axes>"
      ]
     },
     "metadata": {
      "needs_background": "light"
     },
     "output_type": "display_data"
    }
   ],
   "source": [
    "plt.figure(figsize=(6, 4))\n",
    "fontsize = plot.AXIS_FONTSIZE - 3\n",
    "axis_fontsize = 18\n",
    "\n",
    "# Compartment boxplot\n",
    "plot.boxplot_by_comp(mitodf, varscale=plot.DEFAULT_VX_VOL, width=0.55)\n",
    "plt.yscale(\"log\")\n",
    "\n",
    "plot.barplot_annotate_brackets(0, 1, '**', np.arange(4),\n",
    "                               vol_p95s, dh=0.06, logy=True)\n",
    "plot.barplot_annotate_brackets(1, 2, '**', np.arange(4),\n",
    "                               vol_p95s, dh=0.02, logy=True)\n",
    "plot.barplot_annotate_brackets(2, 3, '*', np.arange(4),\n",
    "                               vol_p95s, dh=0.1, logy=True)\n",
    "\n",
    "plt.xticks(rotation=15, fontsize=axis_fontsize)\n",
    "plt.yticks(fontsize=axis_fontsize)\n",
    "plt.ylabel(\"Mito\\nvolume ($\\mathrm{\\mu}$m$^3$)\", fontsize=fontsize)\n",
    "plt.yticks([0.001, 0.01, 0.1, 1], labels=[\"0.001\", \"0.01\", \"0.1\", \"1\"])\n",
    "\n",
    "plt.show()"
   ]
  },
  {
   "cell_type": "code",
   "execution_count": 18,
   "metadata": {},
   "outputs": [
    {
     "data": {
      "image/png": "[encoded data removed]",
      "text/plain": [
       "<Figure size 360x720 with 1 Axes>"
      ]
     },
     "metadata": {
      "needs_background": "light"
     },
     "output_type": "display_data"
    }
   ],
   "source": [
    "plt.figure(figsize=(5, 10))\n",
    "fontsize = plot.AXIS_FONTSIZE - 3\n",
    "axis_fontsize = 18\n",
    "\n",
    "# Compartment boxplot\n",
    "plot.boxplot_by_comp(mitodf, varname=\"complexityindex\", width=0.55)\n",
    "\n",
    "plot.barplot_annotate_brackets(0, 1, '**', np.arange(4), mci_p95s, dh=0.01)\n",
    "plot.barplot_annotate_brackets(1, 2, '**', np.arange(4), mci_p95s, dh=0.01)\n",
    "plot.barplot_annotate_brackets(2, 3, '*', np.arange(4), mci_p95s, dh=0.02)\n",
    "\n",
    "plt.xticks(rotation=15, fontsize=axis_fontsize)\n",
    "plt.yticks(fontsize=axis_fontsize)\n",
    "plt.ylabel(\"Mito\\nvolume ($\\mathrm{\\mu}$m$^3$)\", fontsize=fontsize)\n",
    "plt.ylim(0, 100)\n",
    "\n",
    "plt.show()"
   ]
  },
  {
   "cell_type": "markdown",
   "metadata": {},
   "source": [
    "# Statistical tests"
   ]
  },
  {
   "cell_type": "code",
   "execution_count": 19,
   "metadata": {},
   "outputs": [],
   "source": [
    "axon_to_soma = stats.mannwhitneyu(\n",
    "    mitodf.mito_vx[mitodf.compartment == \"Axonal\"],\n",
    "    mitodf.mito_vx[mitodf.compartment == \"Somatic\"],\n",
    "    alternative=\"less\")\n",
    "\n",
    "soma_to_apical = stats.mannwhitneyu(\n",
    "    mitodf.mito_vx[mitodf.compartment == \"Somatic\"],\n",
    "    mitodf.mito_vx[mitodf.compartment == \"Apical\"],\n",
    "    alternative=\"less\")\n",
    "\n",
    "apical_to_basal = stats.mannwhitneyu(\n",
    "    mitodf.mito_vx[mitodf.compartment == \"Apical\"],\n",
    "    mitodf.mito_vx[mitodf.compartment == \"Basal\"],\n",
    "    alternative=\"less\")"
   ]
  },
  {
   "cell_type": "code",
   "execution_count": 20,
   "metadata": {},
   "outputs": [
    {
     "data": {
      "text/plain": [
       "MannwhitneyuResult(statistic=282639730.0, pvalue=0.0)"
      ]
     },
     "execution_count": 20,
     "metadata": {},
     "output_type": "execute_result"
    }
   ],
   "source": [
    "axon_to_soma"
   ]
  },
  {
   "cell_type": "code",
   "execution_count": 21,
   "metadata": {},
   "outputs": [
    {
     "data": {
      "text/plain": [
       "MannwhitneyuResult(statistic=633583294.0, pvalue=0.0)"
      ]
     },
     "execution_count": 21,
     "metadata": {},
     "output_type": "execute_result"
    }
   ],
   "source": [
    "soma_to_apical"
   ]
  },
  {
   "cell_type": "code",
   "execution_count": 22,
   "metadata": {},
   "outputs": [
    {
     "data": {
      "text/plain": [
       "MannwhitneyuResult(statistic=447785390.0, pvalue=1.478462311485471e-87)"
      ]
     },
     "execution_count": 22,
     "metadata": {},
     "output_type": "execute_result"
    }
   ],
   "source": [
    "apical_to_basal"
   ]
  }
 ],
 "metadata": {
  "kernelspec": {
   "display_name": "Python 3",
   "language": "python",
   "name": "python3"
  },
  "language_info": {
   "codemirror_mode": {
    "name": "ipython",
    "version": 3
   },
   "file_extension": ".py",
   "mimetype": "text/x-python",
   "name": "python",
   "nbconvert_exporter": "python",
   "pygments_lexer": "ipython3",
   "version": "3.7.3"
  }
 },
 "nbformat": 4,
 "nbformat_minor": 4
}
