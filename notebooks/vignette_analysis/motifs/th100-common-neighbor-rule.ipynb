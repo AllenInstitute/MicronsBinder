{
 "cells": [
  {
   "cell_type": "markdown",
   "metadata": {},
   "source": [
    "# Common Neighbor Rule in PyC Subgraph (Th=100)"
   ]
  },
  {
   "cell_type": "code",
   "execution_count": 1,
   "metadata": {},
   "outputs": [],
   "source": [
    "import os\n",
    "import random\n",
    "from time import time\n",
    "import pandas as pd\n",
    "import numpy as np\n",
    "import networkx as nx\n",
    "\n",
    "from utils.utils import *\n",
    "from utils.proximity import *\n",
    "from utils.graph_creation import *\n",
    "from utils.visualization import *\n",
    "from utils.common_neighbor_rule import *"
   ]
  },
  {
   "cell_type": "markdown",
   "metadata": {},
   "source": [
    "### 1. Create PyC Subgraph"
   ]
  },
  {
   "cell_type": "code",
   "execution_count": 2,
   "metadata": {},
   "outputs": [],
   "source": [
    "pyc_synapses = pd.read_csv('data/synapses.csv')\n",
    "pyc_soma = pd.read_csv('data/soma.csv')"
   ]
  },
  {
   "cell_type": "code",
   "execution_count": 3,
   "metadata": {},
   "outputs": [],
   "source": [
    "# create the simple directed graph (no self-loops, no multi-edges)\n",
    "# treat multiple synapses as one connection\n",
    "pyc_subgraph = synapses_to_connections(pyc_synapses[['pre','post']])\n",
    "# remove self-loops\n",
    "g_actual = remove_autapses(edges_to_graph(pyc_subgraph))\n",
    "g_actual.add_nodes_from(pyc_soma[\"segment_id\"])"
   ]
  },
  {
   "cell_type": "code",
   "execution_count": 4,
   "metadata": {},
   "outputs": [],
   "source": [
    "locs = {n:string2array(np.array(pyc_soma[pyc_soma[\"segment_id\"] == n][\"loc\"])[0]) for n in g_actual.nodes()}\n",
    "axls = {n:np.array(pyc_soma[pyc_soma[\"segment_id\"] == n][\"axon_len\"])[0] for n in g_actual.nodes()}\n",
    "nx.set_node_attributes(g_actual, locs, \"loc\")\n",
    "nx.set_node_attributes(g_actual, axls, \"axl\")"
   ]
  },
  {
   "cell_type": "code",
   "execution_count": 5,
   "metadata": {},
   "outputs": [
    {
     "name": "stdout",
     "output_type": "stream",
     "text": [
      "Name: \n",
      "Type: DiGraph\n",
      "Number of nodes: 111\n",
      "Number of edges: 659\n",
      "Average in degree:   5.9369\n",
      "Average out degree:   5.9369\n"
     ]
    }
   ],
   "source": [
    "g_th100 = get_thresholded_graph(g_actual, axls, 100)\n",
    "print(nx.info(g_th100))"
   ]
  },
  {
   "cell_type": "markdown",
   "metadata": {},
   "source": [
    "### 2. Common Neighbor Rule (OBS vs ER vs CFG)"
   ]
  },
  {
   "cell_type": "code",
   "execution_count": 6,
   "metadata": {},
   "outputs": [
    {
     "name": "stdout",
     "output_type": "stream",
     "text": [
      "CPU times: user 244 ms, sys: 0 ns, total: 244 ms\n",
      "Wall time: 241 ms\n"
     ]
    }
   ],
   "source": [
    "%%time\n",
    "# calculate common neighbor stats in the observation\n",
    "obs_cnr_stats = get_cnr_stats(g_th100)"
   ]
  },
  {
   "cell_type": "markdown",
   "metadata": {},
   "source": [
    "- \"undir_pair\" - number of pairs with [bin] common neighbor\n",
    "- \"dir_spair\" - number of pairs with [bin] common successor (strict, not a predecessor to any)\n",
    "- \"dir_ppair\" - number of pairs with [bin] common predecessor (strict, not a successor to any)\n",
    "- \"undir_conn\" - number of connected pairs with [bin] common neighbor\n",
    "- \"dir_sconn\" - number of connected pairs with [bin] common successor (strict, not a predecessor to any)\n",
    "- \"dir_pconn\" - number of connected pairs with [bin] common predecessor (strict, not a successor to any)\n",
    "- \"dir_uni_sconn\" - number of unidirectionally connected pairs with [bin] common successor (strict, not a predecessor to any)\n",
    "- \"dir_uni_pconn\" - number of unidirectionally connected pairs with [bin] common predecessor (strict, not a successor to any)\n",
    "- \"dir_bi_sconn\" - number of bidirectionally connected pairs with [bin] common successor (strict, not a predecessor to any)\n",
    "- \"dir_bi_pconn\" - number of bidirectionally connected pairs with [bin] common predecessor (strict, not a successor to any)\n",
    "- \"undir_perc\" - percentage of pairs with [bin] common neighbor to be connected\n",
    "- \"dir_sperc\" - percentage of pairs with [bin] strict common successor to be connected\n",
    "- \"dir_pperc\" - percentage of pairs with [bin] strict common predcessor to be connected"
   ]
  },
  {
   "cell_type": "code",
   "execution_count": 7,
   "metadata": {},
   "outputs": [
    {
     "data": {
      "text/html": [
       "<div>\n",
       "<style scoped>\n",
       "    .dataframe tbody tr th:only-of-type {\n",
       "        vertical-align: middle;\n",
       "    }\n",
       "\n",
       "    .dataframe tbody tr th {\n",
       "        vertical-align: top;\n",
       "    }\n",
       "\n",
       "    .dataframe thead th {\n",
       "        text-align: right;\n",
       "    }\n",
       "</style>\n",
       "<table border=\"1\" class=\"dataframe\">\n",
       "  <thead>\n",
       "    <tr style=\"text-align: right;\">\n",
       "      <th></th>\n",
       "      <th>undir_pair</th>\n",
       "      <th>dir_spair</th>\n",
       "      <th>dir_ppair</th>\n",
       "      <th>undir_conn</th>\n",
       "      <th>dir_sconn</th>\n",
       "      <th>dir_pconn</th>\n",
       "      <th>dir_uni_sconn</th>\n",
       "      <th>dir_uni_pconn</th>\n",
       "      <th>dir_bi_sconn</th>\n",
       "      <th>dir_bi_pconn</th>\n",
       "      <th>undir_perc</th>\n",
       "      <th>dir_sperc</th>\n",
       "      <th>dir_pperc</th>\n",
       "    </tr>\n",
       "  </thead>\n",
       "  <tbody>\n",
       "    <tr>\n",
       "      <th>0</th>\n",
       "      <td>2027.0</td>\n",
       "      <td>4676.0</td>\n",
       "      <td>3927.0</td>\n",
       "      <td>101.0</td>\n",
       "      <td>400.0</td>\n",
       "      <td>351.0</td>\n",
       "      <td>378.0</td>\n",
       "      <td>334.0</td>\n",
       "      <td>22.0</td>\n",
       "      <td>17.0</td>\n",
       "      <td>0.049827</td>\n",
       "      <td>0.085543</td>\n",
       "      <td>0.089381</td>\n",
       "    </tr>\n",
       "    <tr>\n",
       "      <th>1</th>\n",
       "      <td>1741.0</td>\n",
       "      <td>1031.0</td>\n",
       "      <td>1593.0</td>\n",
       "      <td>164.0</td>\n",
       "      <td>140.0</td>\n",
       "      <td>197.0</td>\n",
       "      <td>134.0</td>\n",
       "      <td>188.0</td>\n",
       "      <td>6.0</td>\n",
       "      <td>9.0</td>\n",
       "      <td>0.094199</td>\n",
       "      <td>0.135790</td>\n",
       "      <td>0.123666</td>\n",
       "    </tr>\n",
       "    <tr>\n",
       "      <th>2</th>\n",
       "      <td>1106.0</td>\n",
       "      <td>271.0</td>\n",
       "      <td>460.0</td>\n",
       "      <td>135.0</td>\n",
       "      <td>52.0</td>\n",
       "      <td>61.0</td>\n",
       "      <td>51.0</td>\n",
       "      <td>59.0</td>\n",
       "      <td>1.0</td>\n",
       "      <td>2.0</td>\n",
       "      <td>0.122061</td>\n",
       "      <td>0.191882</td>\n",
       "      <td>0.132609</td>\n",
       "    </tr>\n",
       "    <tr>\n",
       "      <th>3</th>\n",
       "      <td>637.0</td>\n",
       "      <td>85.0</td>\n",
       "      <td>106.0</td>\n",
       "      <td>102.0</td>\n",
       "      <td>20.0</td>\n",
       "      <td>19.0</td>\n",
       "      <td>20.0</td>\n",
       "      <td>18.0</td>\n",
       "      <td>0.0</td>\n",
       "      <td>1.0</td>\n",
       "      <td>0.160126</td>\n",
       "      <td>0.235294</td>\n",
       "      <td>0.179245</td>\n",
       "    </tr>\n",
       "    <tr>\n",
       "      <th>4</th>\n",
       "      <td>314.0</td>\n",
       "      <td>22.0</td>\n",
       "      <td>17.0</td>\n",
       "      <td>53.0</td>\n",
       "      <td>10.0</td>\n",
       "      <td>2.0</td>\n",
       "      <td>10.0</td>\n",
       "      <td>2.0</td>\n",
       "      <td>0.0</td>\n",
       "      <td>0.0</td>\n",
       "      <td>0.168790</td>\n",
       "      <td>0.454545</td>\n",
       "      <td>0.117647</td>\n",
       "    </tr>\n",
       "    <tr>\n",
       "      <th>5</th>\n",
       "      <td>145.0</td>\n",
       "      <td>14.0</td>\n",
       "      <td>2.0</td>\n",
       "      <td>31.0</td>\n",
       "      <td>5.0</td>\n",
       "      <td>0.0</td>\n",
       "      <td>5.0</td>\n",
       "      <td>0.0</td>\n",
       "      <td>0.0</td>\n",
       "      <td>0.0</td>\n",
       "      <td>0.213793</td>\n",
       "      <td>0.357143</td>\n",
       "      <td>0.000000</td>\n",
       "    </tr>\n",
       "    <tr>\n",
       "      <th>6</th>\n",
       "      <td>76.0</td>\n",
       "      <td>5.0</td>\n",
       "      <td>0.0</td>\n",
       "      <td>17.0</td>\n",
       "      <td>3.0</td>\n",
       "      <td>0.0</td>\n",
       "      <td>3.0</td>\n",
       "      <td>0.0</td>\n",
       "      <td>0.0</td>\n",
       "      <td>0.0</td>\n",
       "      <td>0.223684</td>\n",
       "      <td>0.600000</td>\n",
       "      <td>0.000000</td>\n",
       "    </tr>\n",
       "    <tr>\n",
       "      <th>7</th>\n",
       "      <td>27.0</td>\n",
       "      <td>0.0</td>\n",
       "      <td>0.0</td>\n",
       "      <td>11.0</td>\n",
       "      <td>0.0</td>\n",
       "      <td>0.0</td>\n",
       "      <td>0.0</td>\n",
       "      <td>0.0</td>\n",
       "      <td>0.0</td>\n",
       "      <td>0.0</td>\n",
       "      <td>0.407407</td>\n",
       "      <td>0.000000</td>\n",
       "      <td>0.000000</td>\n",
       "    </tr>\n",
       "    <tr>\n",
       "      <th>8</th>\n",
       "      <td>19.0</td>\n",
       "      <td>0.0</td>\n",
       "      <td>0.0</td>\n",
       "      <td>10.0</td>\n",
       "      <td>0.0</td>\n",
       "      <td>0.0</td>\n",
       "      <td>0.0</td>\n",
       "      <td>0.0</td>\n",
       "      <td>0.0</td>\n",
       "      <td>0.0</td>\n",
       "      <td>0.526316</td>\n",
       "      <td>0.000000</td>\n",
       "      <td>0.000000</td>\n",
       "    </tr>\n",
       "    <tr>\n",
       "      <th>9</th>\n",
       "      <td>13.0</td>\n",
       "      <td>1.0</td>\n",
       "      <td>0.0</td>\n",
       "      <td>6.0</td>\n",
       "      <td>0.0</td>\n",
       "      <td>0.0</td>\n",
       "      <td>0.0</td>\n",
       "      <td>0.0</td>\n",
       "      <td>0.0</td>\n",
       "      <td>0.0</td>\n",
       "      <td>0.461538</td>\n",
       "      <td>0.000000</td>\n",
       "      <td>0.000000</td>\n",
       "    </tr>\n",
       "  </tbody>\n",
       "</table>\n",
       "</div>"
      ],
      "text/plain": [
       "   undir_pair  dir_spair  dir_ppair  undir_conn  dir_sconn  dir_pconn  \\\n",
       "0      2027.0     4676.0     3927.0       101.0      400.0      351.0   \n",
       "1      1741.0     1031.0     1593.0       164.0      140.0      197.0   \n",
       "2      1106.0      271.0      460.0       135.0       52.0       61.0   \n",
       "3       637.0       85.0      106.0       102.0       20.0       19.0   \n",
       "4       314.0       22.0       17.0        53.0       10.0        2.0   \n",
       "5       145.0       14.0        2.0        31.0        5.0        0.0   \n",
       "6        76.0        5.0        0.0        17.0        3.0        0.0   \n",
       "7        27.0        0.0        0.0        11.0        0.0        0.0   \n",
       "8        19.0        0.0        0.0        10.0        0.0        0.0   \n",
       "9        13.0        1.0        0.0         6.0        0.0        0.0   \n",
       "\n",
       "   dir_uni_sconn  dir_uni_pconn  dir_bi_sconn  dir_bi_pconn  undir_perc  \\\n",
       "0          378.0          334.0          22.0          17.0    0.049827   \n",
       "1          134.0          188.0           6.0           9.0    0.094199   \n",
       "2           51.0           59.0           1.0           2.0    0.122061   \n",
       "3           20.0           18.0           0.0           1.0    0.160126   \n",
       "4           10.0            2.0           0.0           0.0    0.168790   \n",
       "5            5.0            0.0           0.0           0.0    0.213793   \n",
       "6            3.0            0.0           0.0           0.0    0.223684   \n",
       "7            0.0            0.0           0.0           0.0    0.407407   \n",
       "8            0.0            0.0           0.0           0.0    0.526316   \n",
       "9            0.0            0.0           0.0           0.0    0.461538   \n",
       "\n",
       "   dir_sperc  dir_pperc  \n",
       "0   0.085543   0.089381  \n",
       "1   0.135790   0.123666  \n",
       "2   0.191882   0.132609  \n",
       "3   0.235294   0.179245  \n",
       "4   0.454545   0.117647  \n",
       "5   0.357143   0.000000  \n",
       "6   0.600000   0.000000  \n",
       "7   0.000000   0.000000  \n",
       "8   0.000000   0.000000  \n",
       "9   0.000000   0.000000  "
      ]
     },
     "execution_count": 7,
     "metadata": {},
     "output_type": "execute_result"
    }
   ],
   "source": [
    "obs_cnr_stats"
   ]
  },
  {
   "cell_type": "code",
   "execution_count": 8,
   "metadata": {},
   "outputs": [
    {
     "data": {
      "application/vnd.jupyter.widget-view+json": {
       "model_id": "57d649de034e43598931c7be88c413fa",
       "version_major": 2,
       "version_minor": 0
      },
      "text/plain": [
       "HBox(children=(FloatProgress(value=0.0), HTML(value='')))"
      ]
     },
     "metadata": {},
     "output_type": "display_data"
    },
    {
     "name": "stdout",
     "output_type": "stream",
     "text": [
      "\n",
      "CPU times: user 33.2 s, sys: 0 ns, total: 33.2 s\n",
      "Wall time: 38.4 s\n"
     ]
    }
   ],
   "source": [
    "%%time\n",
    "# sample graphs from CFG model and compute CNR stats\n",
    "s=100 # total 100 samples (100 continous samples)\n",
    "cfg_cnr_samples = continuous_sample_cnr(g_th100, samples=s, niters=int(1e4))\n",
    "cfg_cnr_stats, cfg_cnr_stats_std = cnr_mean_std(cfg_cnr_samples)"
   ]
  },
  {
   "cell_type": "code",
   "execution_count": 13,
   "metadata": {},
   "outputs": [],
   "source": [
    "# save sampled CNR stats from CFG model as intermediate data\n",
    "cfg_cnr_stats.to_csv(\"saved/th100_cnr_cfg100.csv\", index=False)\n",
    "cfg_cnr_stats_std.to_csv(\"saved/th100_cnrstd_cfg100.csv\", index=False)"
   ]
  },
  {
   "cell_type": "code",
   "execution_count": 14,
   "metadata": {},
   "outputs": [],
   "source": [
    "# load precomputed CNR stats counts from CFG model\n",
    "cfg_cnr_stats = pd.read_csv(\"saved/th100_cnr_cfg100.csv\")\n",
    "cfg_cnr_stats_std = pd.read_csv(\"saved/th100_cnrstd_cfg100.csv\")"
   ]
  },
  {
   "cell_type": "code",
   "execution_count": 15,
   "metadata": {},
   "outputs": [
    {
     "data": {
      "text/html": [
       "<div>\n",
       "<style scoped>\n",
       "    .dataframe tbody tr th:only-of-type {\n",
       "        vertical-align: middle;\n",
       "    }\n",
       "\n",
       "    .dataframe tbody tr th {\n",
       "        vertical-align: top;\n",
       "    }\n",
       "\n",
       "    .dataframe thead th {\n",
       "        text-align: right;\n",
       "    }\n",
       "</style>\n",
       "<table border=\"1\" class=\"dataframe\">\n",
       "  <thead>\n",
       "    <tr style=\"text-align: right;\">\n",
       "      <th></th>\n",
       "      <th>undir_pair</th>\n",
       "      <th>dir_spair</th>\n",
       "      <th>dir_ppair</th>\n",
       "      <th>undir_conn</th>\n",
       "      <th>dir_sconn</th>\n",
       "      <th>dir_pconn</th>\n",
       "      <th>dir_uni_sconn</th>\n",
       "      <th>dir_uni_pconn</th>\n",
       "      <th>dir_bi_sconn</th>\n",
       "      <th>dir_bi_pconn</th>\n",
       "      <th>undir_perc</th>\n",
       "      <th>dir_sperc</th>\n",
       "      <th>dir_pperc</th>\n",
       "    </tr>\n",
       "  </thead>\n",
       "  <tbody>\n",
       "    <tr>\n",
       "      <th>0</th>\n",
       "      <td>1939.39</td>\n",
       "      <td>4637.05</td>\n",
       "      <td>3886.65</td>\n",
       "      <td>118.78</td>\n",
       "      <td>404.22</td>\n",
       "      <td>367.75</td>\n",
       "      <td>393.70</td>\n",
       "      <td>356.00</td>\n",
       "      <td>10.52</td>\n",
       "      <td>11.75</td>\n",
       "      <td>0.061263</td>\n",
       "      <td>0.087171</td>\n",
       "      <td>0.094617</td>\n",
       "    </tr>\n",
       "    <tr>\n",
       "      <th>1</th>\n",
       "      <td>1782.02</td>\n",
       "      <td>1071.63</td>\n",
       "      <td>1660.47</td>\n",
       "      <td>164.32</td>\n",
       "      <td>151.87</td>\n",
       "      <td>196.42</td>\n",
       "      <td>145.44</td>\n",
       "      <td>189.74</td>\n",
       "      <td>6.43</td>\n",
       "      <td>6.68</td>\n",
       "      <td>0.092221</td>\n",
       "      <td>0.141682</td>\n",
       "      <td>0.118312</td>\n",
       "    </tr>\n",
       "    <tr>\n",
       "      <th>2</th>\n",
       "      <td>1145.70</td>\n",
       "      <td>279.54</td>\n",
       "      <td>446.21</td>\n",
       "      <td>139.87</td>\n",
       "      <td>51.39</td>\n",
       "      <td>58.20</td>\n",
       "      <td>48.97</td>\n",
       "      <td>56.13</td>\n",
       "      <td>2.42</td>\n",
       "      <td>2.07</td>\n",
       "      <td>0.122086</td>\n",
       "      <td>0.183649</td>\n",
       "      <td>0.130448</td>\n",
       "    </tr>\n",
       "    <tr>\n",
       "      <th>3</th>\n",
       "      <td>646.92</td>\n",
       "      <td>77.91</td>\n",
       "      <td>92.93</td>\n",
       "      <td>95.72</td>\n",
       "      <td>18.69</td>\n",
       "      <td>12.51</td>\n",
       "      <td>17.67</td>\n",
       "      <td>11.99</td>\n",
       "      <td>1.02</td>\n",
       "      <td>0.52</td>\n",
       "      <td>0.147930</td>\n",
       "      <td>0.239476</td>\n",
       "      <td>0.133790</td>\n",
       "    </tr>\n",
       "    <tr>\n",
       "      <th>4</th>\n",
       "      <td>322.07</td>\n",
       "      <td>24.76</td>\n",
       "      <td>16.33</td>\n",
       "      <td>56.63</td>\n",
       "      <td>7.02</td>\n",
       "      <td>2.49</td>\n",
       "      <td>6.55</td>\n",
       "      <td>2.35</td>\n",
       "      <td>0.47</td>\n",
       "      <td>0.14</td>\n",
       "      <td>0.175654</td>\n",
       "      <td>0.283114</td>\n",
       "      <td>0.150473</td>\n",
       "    </tr>\n",
       "    <tr>\n",
       "      <th>5</th>\n",
       "      <td>150.58</td>\n",
       "      <td>8.71</td>\n",
       "      <td>2.16</td>\n",
       "      <td>31.68</td>\n",
       "      <td>2.54</td>\n",
       "      <td>0.39</td>\n",
       "      <td>2.36</td>\n",
       "      <td>0.36</td>\n",
       "      <td>0.18</td>\n",
       "      <td>0.03</td>\n",
       "      <td>0.210405</td>\n",
       "      <td>0.296656</td>\n",
       "      <td>0.165107</td>\n",
       "    </tr>\n",
       "    <tr>\n",
       "      <th>6</th>\n",
       "      <td>65.88</td>\n",
       "      <td>3.21</td>\n",
       "      <td>0.22</td>\n",
       "      <td>16.22</td>\n",
       "      <td>1.19</td>\n",
       "      <td>0.04</td>\n",
       "      <td>1.10</td>\n",
       "      <td>0.04</td>\n",
       "      <td>0.09</td>\n",
       "      <td>0.00</td>\n",
       "      <td>0.245393</td>\n",
       "      <td>0.371452</td>\n",
       "      <td>0.040000</td>\n",
       "    </tr>\n",
       "    <tr>\n",
       "      <th>7</th>\n",
       "      <td>29.33</td>\n",
       "      <td>1.16</td>\n",
       "      <td>0.03</td>\n",
       "      <td>7.79</td>\n",
       "      <td>0.47</td>\n",
       "      <td>0.01</td>\n",
       "      <td>0.44</td>\n",
       "      <td>0.01</td>\n",
       "      <td>0.03</td>\n",
       "      <td>0.00</td>\n",
       "      <td>0.264944</td>\n",
       "      <td>0.300000</td>\n",
       "      <td>0.010000</td>\n",
       "    </tr>\n",
       "    <tr>\n",
       "      <th>8</th>\n",
       "      <td>13.10</td>\n",
       "      <td>0.55</td>\n",
       "      <td>0.00</td>\n",
       "      <td>3.55</td>\n",
       "      <td>0.24</td>\n",
       "      <td>0.00</td>\n",
       "      <td>0.23</td>\n",
       "      <td>0.00</td>\n",
       "      <td>0.01</td>\n",
       "      <td>0.00</td>\n",
       "      <td>0.265554</td>\n",
       "      <td>0.206667</td>\n",
       "      <td>0.000000</td>\n",
       "    </tr>\n",
       "    <tr>\n",
       "      <th>9</th>\n",
       "      <td>10.01</td>\n",
       "      <td>0.48</td>\n",
       "      <td>0.00</td>\n",
       "      <td>3.25</td>\n",
       "      <td>0.18</td>\n",
       "      <td>0.00</td>\n",
       "      <td>0.16</td>\n",
       "      <td>0.00</td>\n",
       "      <td>0.02</td>\n",
       "      <td>0.00</td>\n",
       "      <td>0.314639</td>\n",
       "      <td>0.153333</td>\n",
       "      <td>0.000000</td>\n",
       "    </tr>\n",
       "  </tbody>\n",
       "</table>\n",
       "</div>"
      ],
      "text/plain": [
       "   undir_pair  dir_spair  dir_ppair  undir_conn  dir_sconn  dir_pconn  \\\n",
       "0     1939.39    4637.05    3886.65      118.78     404.22     367.75   \n",
       "1     1782.02    1071.63    1660.47      164.32     151.87     196.42   \n",
       "2     1145.70     279.54     446.21      139.87      51.39      58.20   \n",
       "3      646.92      77.91      92.93       95.72      18.69      12.51   \n",
       "4      322.07      24.76      16.33       56.63       7.02       2.49   \n",
       "5      150.58       8.71       2.16       31.68       2.54       0.39   \n",
       "6       65.88       3.21       0.22       16.22       1.19       0.04   \n",
       "7       29.33       1.16       0.03        7.79       0.47       0.01   \n",
       "8       13.10       0.55       0.00        3.55       0.24       0.00   \n",
       "9       10.01       0.48       0.00        3.25       0.18       0.00   \n",
       "\n",
       "   dir_uni_sconn  dir_uni_pconn  dir_bi_sconn  dir_bi_pconn  undir_perc  \\\n",
       "0         393.70         356.00         10.52         11.75    0.061263   \n",
       "1         145.44         189.74          6.43          6.68    0.092221   \n",
       "2          48.97          56.13          2.42          2.07    0.122086   \n",
       "3          17.67          11.99          1.02          0.52    0.147930   \n",
       "4           6.55           2.35          0.47          0.14    0.175654   \n",
       "5           2.36           0.36          0.18          0.03    0.210405   \n",
       "6           1.10           0.04          0.09          0.00    0.245393   \n",
       "7           0.44           0.01          0.03          0.00    0.264944   \n",
       "8           0.23           0.00          0.01          0.00    0.265554   \n",
       "9           0.16           0.00          0.02          0.00    0.314639   \n",
       "\n",
       "   dir_sperc  dir_pperc  \n",
       "0   0.087171   0.094617  \n",
       "1   0.141682   0.118312  \n",
       "2   0.183649   0.130448  \n",
       "3   0.239476   0.133790  \n",
       "4   0.283114   0.150473  \n",
       "5   0.296656   0.165107  \n",
       "6   0.371452   0.040000  \n",
       "7   0.300000   0.010000  \n",
       "8   0.206667   0.000000  \n",
       "9   0.153333   0.000000  "
      ]
     },
     "execution_count": 15,
     "metadata": {},
     "output_type": "execute_result"
    }
   ],
   "source": [
    "cfg_cnr_stats"
   ]
  },
  {
   "cell_type": "code",
   "execution_count": 16,
   "metadata": {},
   "outputs": [
    {
     "data": {
      "image/png": "[encoded data removed]",
      "text/plain": [
       "<Figure size 720x288 with 1 Axes>"
      ]
     },
     "metadata": {
      "needs_background": "light"
     },
     "output_type": "display_data"
    }
   ],
   "source": [
    "# plot CNR curves\n",
    "E, N = len(g_th100.edges), len(g_th100.nodes)\n",
    "ER_p_null = (1 - E / (N*(N-1)))**2\n",
    "\n",
    "plot_cnr(obs_cnr_stats, cfg_cnr_stats, cfg_cnr_stats_std, ER_p_null, figsize=(10,4), fname=\"th100/th100_cnr\")"
   ]
  },
  {
   "cell_type": "code",
   "execution_count": 17,
   "metadata": {},
   "outputs": [
    {
     "data": {
      "text/plain": [
       "(0.8793027463711647, 6.106235706259406e-05)"
      ]
     },
     "execution_count": 17,
     "metadata": {},
     "output_type": "execute_result"
    }
   ],
   "source": [
    "# Pearson r^2 and p-value for OBS\n",
    "pearson_r2(np.arange(10), obs_cnr_stats[\"undir_perc\"])"
   ]
  },
  {
   "cell_type": "code",
   "execution_count": 18,
   "metadata": {},
   "outputs": [
    {
     "data": {
      "text/plain": [
       "(0.9882549368633136, 5.227933798388896e-09)"
      ]
     },
     "execution_count": 18,
     "metadata": {},
     "output_type": "execute_result"
    }
   ],
   "source": [
    "# Pearson r^2 and p-value for CFG\n",
    "pearson_r2(np.arange(10), cfg_cnr_stats[\"undir_perc\"])"
   ]
  },
  {
   "cell_type": "markdown",
   "metadata": {},
   "source": [
    "### 3. Common Neighbor Rule (OBS vs gER vs gCFG)"
   ]
  },
  {
   "cell_type": "code",
   "execution_count": 19,
   "metadata": {},
   "outputs": [
    {
     "data": {
      "application/vnd.jupyter.widget-view+json": {
       "model_id": "36ba2b8f96194185bd2044255ff8527b",
       "version_major": 2,
       "version_minor": 0
      },
      "text/plain": [
       "HBox(children=(FloatProgress(value=0.0), HTML(value='')))"
      ]
     },
     "metadata": {},
     "output_type": "display_data"
    },
    {
     "name": "stdout",
     "output_type": "stream",
     "text": [
      "\n",
      "CPU times: user 42.4 s, sys: 144 ms, total: 42.5 s\n",
      "Wall time: 42.4 s\n"
     ]
    }
   ],
   "source": [
    "%%time\n",
    "# sample graphs from gCFG model and compute CNR stats\n",
    "s=100 # total 100 samples (100 continous samples)\n",
    "cfg_cnr_samples_GE = continuous_sample_cnr_GE(g_th100, samples=s, niters=int(1e4))\n",
    "cfg_cnr_stats_GE, cfg_cnr_stats_std_GE = cnr_mean_std(cfg_cnr_samples_GE)"
   ]
  },
  {
   "cell_type": "code",
   "execution_count": 20,
   "metadata": {},
   "outputs": [],
   "source": [
    "# save sampled CNR stats from CFG model as intermediate data\n",
    "cfg_cnr_stats_GE.to_csv(\"saved/th100_cnr_gcfg100.csv\", index=False)\n",
    "cfg_cnr_stats_std_GE.to_csv(\"saved/th100_cnrstd_gcfg100.csv\", index=False)"
   ]
  },
  {
   "cell_type": "code",
   "execution_count": 21,
   "metadata": {},
   "outputs": [],
   "source": [
    "# load precomputed CNR stats counts from CFG model\n",
    "cfg_cnr_stats_GE = pd.read_csv(\"saved/th100_cnr_gcfg100.csv\")\n",
    "cfg_cnr_stats_std_GE = pd.read_csv(\"saved/th100_cnrstd_gcfg100.csv\")"
   ]
  },
  {
   "cell_type": "code",
   "execution_count": 22,
   "metadata": {},
   "outputs": [
    {
     "data": {
      "text/html": [
       "<div>\n",
       "<style scoped>\n",
       "    .dataframe tbody tr th:only-of-type {\n",
       "        vertical-align: middle;\n",
       "    }\n",
       "\n",
       "    .dataframe tbody tr th {\n",
       "        vertical-align: top;\n",
       "    }\n",
       "\n",
       "    .dataframe thead th {\n",
       "        text-align: right;\n",
       "    }\n",
       "</style>\n",
       "<table border=\"1\" class=\"dataframe\">\n",
       "  <thead>\n",
       "    <tr style=\"text-align: right;\">\n",
       "      <th></th>\n",
       "      <th>undir_pair</th>\n",
       "      <th>dir_spair</th>\n",
       "      <th>dir_ppair</th>\n",
       "      <th>undir_conn</th>\n",
       "      <th>dir_sconn</th>\n",
       "      <th>dir_pconn</th>\n",
       "      <th>dir_uni_sconn</th>\n",
       "      <th>dir_uni_pconn</th>\n",
       "      <th>dir_bi_sconn</th>\n",
       "      <th>dir_bi_pconn</th>\n",
       "      <th>undir_perc</th>\n",
       "      <th>dir_sperc</th>\n",
       "      <th>dir_pperc</th>\n",
       "    </tr>\n",
       "  </thead>\n",
       "  <tbody>\n",
       "    <tr>\n",
       "      <th>0</th>\n",
       "      <td>1985.21</td>\n",
       "      <td>4668.04</td>\n",
       "      <td>3934.68</td>\n",
       "      <td>120.24</td>\n",
       "      <td>402.77</td>\n",
       "      <td>368.71</td>\n",
       "      <td>387.55</td>\n",
       "      <td>352.51</td>\n",
       "      <td>15.22</td>\n",
       "      <td>16.20</td>\n",
       "      <td>0.060550</td>\n",
       "      <td>0.086282</td>\n",
       "      <td>0.093708</td>\n",
       "    </tr>\n",
       "    <tr>\n",
       "      <th>1</th>\n",
       "      <td>1794.42</td>\n",
       "      <td>1054.68</td>\n",
       "      <td>1631.28</td>\n",
       "      <td>164.01</td>\n",
       "      <td>147.65</td>\n",
       "      <td>190.05</td>\n",
       "      <td>139.70</td>\n",
       "      <td>181.00</td>\n",
       "      <td>7.95</td>\n",
       "      <td>9.05</td>\n",
       "      <td>0.091383</td>\n",
       "      <td>0.140004</td>\n",
       "      <td>0.116508</td>\n",
       "    </tr>\n",
       "    <tr>\n",
       "      <th>2</th>\n",
       "      <td>1146.60</td>\n",
       "      <td>270.40</td>\n",
       "      <td>432.68</td>\n",
       "      <td>140.05</td>\n",
       "      <td>50.97</td>\n",
       "      <td>56.41</td>\n",
       "      <td>47.38</td>\n",
       "      <td>53.48</td>\n",
       "      <td>3.59</td>\n",
       "      <td>2.93</td>\n",
       "      <td>0.122128</td>\n",
       "      <td>0.188438</td>\n",
       "      <td>0.130355</td>\n",
       "    </tr>\n",
       "    <tr>\n",
       "      <th>3</th>\n",
       "      <td>623.82</td>\n",
       "      <td>76.29</td>\n",
       "      <td>88.69</td>\n",
       "      <td>93.48</td>\n",
       "      <td>18.09</td>\n",
       "      <td>12.01</td>\n",
       "      <td>16.75</td>\n",
       "      <td>11.39</td>\n",
       "      <td>1.34</td>\n",
       "      <td>0.62</td>\n",
       "      <td>0.149855</td>\n",
       "      <td>0.237682</td>\n",
       "      <td>0.135146</td>\n",
       "    </tr>\n",
       "    <tr>\n",
       "      <th>4</th>\n",
       "      <td>307.34</td>\n",
       "      <td>22.04</td>\n",
       "      <td>15.03</td>\n",
       "      <td>54.97</td>\n",
       "      <td>6.13</td>\n",
       "      <td>2.40</td>\n",
       "      <td>5.68</td>\n",
       "      <td>2.23</td>\n",
       "      <td>0.45</td>\n",
       "      <td>0.17</td>\n",
       "      <td>0.178543</td>\n",
       "      <td>0.277715</td>\n",
       "      <td>0.161885</td>\n",
       "    </tr>\n",
       "    <tr>\n",
       "      <th>5</th>\n",
       "      <td>140.92</td>\n",
       "      <td>8.04</td>\n",
       "      <td>2.28</td>\n",
       "      <td>29.63</td>\n",
       "      <td>2.53</td>\n",
       "      <td>0.36</td>\n",
       "      <td>2.28</td>\n",
       "      <td>0.33</td>\n",
       "      <td>0.25</td>\n",
       "      <td>0.03</td>\n",
       "      <td>0.209385</td>\n",
       "      <td>0.323024</td>\n",
       "      <td>0.132167</td>\n",
       "    </tr>\n",
       "    <tr>\n",
       "      <th>6</th>\n",
       "      <td>60.88</td>\n",
       "      <td>2.97</td>\n",
       "      <td>0.34</td>\n",
       "      <td>14.61</td>\n",
       "      <td>0.95</td>\n",
       "      <td>0.06</td>\n",
       "      <td>0.85</td>\n",
       "      <td>0.06</td>\n",
       "      <td>0.10</td>\n",
       "      <td>0.00</td>\n",
       "      <td>0.239622</td>\n",
       "      <td>0.339857</td>\n",
       "      <td>0.040000</td>\n",
       "    </tr>\n",
       "    <tr>\n",
       "      <th>7</th>\n",
       "      <td>26.10</td>\n",
       "      <td>1.39</td>\n",
       "      <td>0.02</td>\n",
       "      <td>6.71</td>\n",
       "      <td>0.44</td>\n",
       "      <td>0.00</td>\n",
       "      <td>0.41</td>\n",
       "      <td>0.00</td>\n",
       "      <td>0.03</td>\n",
       "      <td>0.00</td>\n",
       "      <td>0.255985</td>\n",
       "      <td>0.282833</td>\n",
       "      <td>0.000000</td>\n",
       "    </tr>\n",
       "    <tr>\n",
       "      <th>8</th>\n",
       "      <td>11.39</td>\n",
       "      <td>0.68</td>\n",
       "      <td>0.00</td>\n",
       "      <td>3.28</td>\n",
       "      <td>0.27</td>\n",
       "      <td>0.00</td>\n",
       "      <td>0.23</td>\n",
       "      <td>0.00</td>\n",
       "      <td>0.04</td>\n",
       "      <td>0.00</td>\n",
       "      <td>0.277087</td>\n",
       "      <td>0.200000</td>\n",
       "      <td>0.000000</td>\n",
       "    </tr>\n",
       "    <tr>\n",
       "      <th>9</th>\n",
       "      <td>8.32</td>\n",
       "      <td>0.47</td>\n",
       "      <td>0.00</td>\n",
       "      <td>3.02</td>\n",
       "      <td>0.20</td>\n",
       "      <td>0.00</td>\n",
       "      <td>0.17</td>\n",
       "      <td>0.00</td>\n",
       "      <td>0.03</td>\n",
       "      <td>0.00</td>\n",
       "      <td>0.359294</td>\n",
       "      <td>0.160000</td>\n",
       "      <td>0.000000</td>\n",
       "    </tr>\n",
       "  </tbody>\n",
       "</table>\n",
       "</div>"
      ],
      "text/plain": [
       "   undir_pair  dir_spair  dir_ppair  undir_conn  dir_sconn  dir_pconn  \\\n",
       "0     1985.21    4668.04    3934.68      120.24     402.77     368.71   \n",
       "1     1794.42    1054.68    1631.28      164.01     147.65     190.05   \n",
       "2     1146.60     270.40     432.68      140.05      50.97      56.41   \n",
       "3      623.82      76.29      88.69       93.48      18.09      12.01   \n",
       "4      307.34      22.04      15.03       54.97       6.13       2.40   \n",
       "5      140.92       8.04       2.28       29.63       2.53       0.36   \n",
       "6       60.88       2.97       0.34       14.61       0.95       0.06   \n",
       "7       26.10       1.39       0.02        6.71       0.44       0.00   \n",
       "8       11.39       0.68       0.00        3.28       0.27       0.00   \n",
       "9        8.32       0.47       0.00        3.02       0.20       0.00   \n",
       "\n",
       "   dir_uni_sconn  dir_uni_pconn  dir_bi_sconn  dir_bi_pconn  undir_perc  \\\n",
       "0         387.55         352.51         15.22         16.20    0.060550   \n",
       "1         139.70         181.00          7.95          9.05    0.091383   \n",
       "2          47.38          53.48          3.59          2.93    0.122128   \n",
       "3          16.75          11.39          1.34          0.62    0.149855   \n",
       "4           5.68           2.23          0.45          0.17    0.178543   \n",
       "5           2.28           0.33          0.25          0.03    0.209385   \n",
       "6           0.85           0.06          0.10          0.00    0.239622   \n",
       "7           0.41           0.00          0.03          0.00    0.255985   \n",
       "8           0.23           0.00          0.04          0.00    0.277087   \n",
       "9           0.17           0.00          0.03          0.00    0.359294   \n",
       "\n",
       "   dir_sperc  dir_pperc  \n",
       "0   0.086282   0.093708  \n",
       "1   0.140004   0.116508  \n",
       "2   0.188438   0.130355  \n",
       "3   0.237682   0.135146  \n",
       "4   0.277715   0.161885  \n",
       "5   0.323024   0.132167  \n",
       "6   0.339857   0.040000  \n",
       "7   0.282833   0.000000  \n",
       "8   0.200000   0.000000  \n",
       "9   0.160000   0.000000  "
      ]
     },
     "execution_count": 22,
     "metadata": {},
     "output_type": "execute_result"
    }
   ],
   "source": [
    "cfg_cnr_stats_GE"
   ]
  },
  {
   "cell_type": "code",
   "execution_count": 25,
   "metadata": {},
   "outputs": [
    {
     "data": {
      "image/png": "[encoded data removed]",
      "text/plain": [
       "<Figure size 432x288 with 1 Axes>"
      ]
     },
     "metadata": {
      "needs_background": "light"
     },
     "output_type": "display_data"
    }
   ],
   "source": [
    "# plot CNR curves\n",
    "_, two_pr_GE = compute_three_neuron_motif_probabilities_GE(g_th100)\n",
    "ER_p_null_GE = 1 - 2*two_pr_GE[\"pr_uni\"] - two_pr_GE[\"pr_bi\"]\n",
    "\n",
    "plot_cnr(obs_cnr_stats, cfg_cnr_stats_GE, cfg_cnr_stats_std_GE, ER_p_null_GE, \n",
    "         figsize=(6,4), fontsizes=(16, 16, 16, 14), cfg_name=\"CFG (generalized)\", er_name=\"ER (generalized)\", fname=\"th100/th100_cnr_GE\")"
   ]
  },
  {
   "cell_type": "code",
   "execution_count": 26,
   "metadata": {},
   "outputs": [
    {
     "data": {
      "text/plain": [
       "(0.8793027463711647, 6.106235706259406e-05)"
      ]
     },
     "execution_count": 26,
     "metadata": {},
     "output_type": "execute_result"
    }
   ],
   "source": [
    "# Pearson r^2 and p-value for OBS\n",
    "pearson_r2(np.arange(10), obs_cnr_stats[\"undir_perc\"])"
   ]
  },
  {
   "cell_type": "code",
   "execution_count": 27,
   "metadata": {},
   "outputs": [
    {
     "data": {
      "text/plain": [
       "(0.9791662604113113, 5.194917261971365e-08)"
      ]
     },
     "execution_count": 27,
     "metadata": {},
     "output_type": "execute_result"
    }
   ],
   "source": [
    "# Pearson r^2 and p-value for gCFG\n",
    "pearson_r2(np.arange(10), cfg_cnr_stats_GE[\"undir_perc\"])"
   ]
  },
  {
   "cell_type": "markdown",
   "metadata": {},
   "source": [
    "### 4. Common Neighbor Rule (OBS vs gER vs CFG)"
   ]
  },
  {
   "cell_type": "code",
   "execution_count": 29,
   "metadata": {},
   "outputs": [
    {
     "data": {
      "image/png": "[encoded data removed]",
      "text/plain": [
       "<Figure size 720x288 with 1 Axes>"
      ]
     },
     "metadata": {
      "needs_background": "light"
     },
     "output_type": "display_data"
    }
   ],
   "source": [
    "# plot CNR curves\n",
    "plot_cnr(obs_cnr_stats, cfg_cnr_stats, cfg_cnr_stats_std, ER_p_null_GE, figsize=(10,4), \n",
    "         er_name=\"ER (generalized)\", fname=\"th100/th100_cnr_CGE\")"
   ]
  }
 ],
 "metadata": {
  "kernelspec": {
   "display_name": "playground",
   "language": "python",
   "name": "myenv"
  },
  "language_info": {
   "codemirror_mode": {
    "name": "ipython",
    "version": 3
   },
   "file_extension": ".py",
   "mimetype": "text/x-python",
   "name": "python",
   "nbconvert_exporter": "python",
   "pygments_lexer": "ipython3",
   "version": "3.7.1"
  }
 },
 "nbformat": 4,
 "nbformat_minor": 4
}
