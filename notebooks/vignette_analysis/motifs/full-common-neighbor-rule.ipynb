{
 "cells": [
  {
   "cell_type": "markdown",
   "metadata": {},
   "source": [
    "# Common Neighbor Rule in PyC Subgraph (Full)"
   ]
  },
  {
   "cell_type": "code",
   "execution_count": 1,
   "metadata": {},
   "outputs": [],
   "source": [
    "import os\n",
    "import random\n",
    "from time import time\n",
    "import pandas as pd\n",
    "import numpy as np\n",
    "import networkx as nx\n",
    "\n",
    "from utils.utils import *\n",
    "from utils.proximity import *\n",
    "from utils.graph_creation import *\n",
    "from utils.visualization import *\n",
    "from utils.common_neighbor_rule import *"
   ]
  },
  {
   "cell_type": "markdown",
   "metadata": {},
   "source": [
    "### 1. Create PyC Subgraph"
   ]
  },
  {
   "cell_type": "code",
   "execution_count": 2,
   "metadata": {},
   "outputs": [],
   "source": [
    "pyc_synapses = pd.read_csv('data/synapses.csv')\n",
    "pyc_soma = pd.read_csv('data/soma.csv')"
   ]
  },
  {
   "cell_type": "code",
   "execution_count": 3,
   "metadata": {},
   "outputs": [],
   "source": [
    "# create the simple directed graph (no self-loops, no multi-edges)\n",
    "# treat multiple synapses as one connection\n",
    "pyc_subgraph = synapses_to_connections(pyc_synapses[['pre','post']])\n",
    "# remove self-loops\n",
    "g_actual = remove_autapses(edges_to_graph(pyc_subgraph))\n",
    "g_actual.add_nodes_from(pyc_soma[\"segment_id\"])"
   ]
  },
  {
   "cell_type": "code",
   "execution_count": 4,
   "metadata": {},
   "outputs": [],
   "source": [
    "locs = {n:string2array(np.array(pyc_soma[pyc_soma[\"segment_id\"] == n][\"loc\"])[0]) for n in g_actual.nodes()}\n",
    "axls = {n:np.array(pyc_soma[pyc_soma[\"segment_id\"] == n][\"axon_len\"])[0] for n in g_actual.nodes()}\n",
    "nx.set_node_attributes(g_actual, locs, \"loc\")\n",
    "nx.set_node_attributes(g_actual, axls, \"axl\")"
   ]
  },
  {
   "cell_type": "code",
   "execution_count": 6,
   "metadata": {},
   "outputs": [
    {
     "name": "stdout",
     "output_type": "stream",
     "text": [
      "Name: \n",
      "Type: DiGraph\n",
      "Number of nodes: 363\n",
      "Number of edges: 1750\n",
      "Average in degree:   4.8209\n",
      "Average out degree:   4.8209\n"
     ]
    }
   ],
   "source": [
    "g_full = get_thresholded_graph(g_actual, axls, -1)\n",
    "print(nx.info(g_full))"
   ]
  },
  {
   "cell_type": "markdown",
   "metadata": {},
   "source": [
    "### 2. Common Neighbor Rule (OBS vs ER vs CFG)"
   ]
  },
  {
   "cell_type": "code",
   "execution_count": 7,
   "metadata": {},
   "outputs": [
    {
     "name": "stdout",
     "output_type": "stream",
     "text": [
      "CPU times: user 640 ms, sys: 0 ns, total: 640 ms\n",
      "Wall time: 1.91 s\n"
     ]
    }
   ],
   "source": [
    "%%time\n",
    "# calculate common neighbor stats in the observation\n",
    "obs_cnr_stats = get_cnr_stats(g_full)"
   ]
  },
  {
   "cell_type": "markdown",
   "metadata": {},
   "source": [
    "- \"undir_pair\" - number of pairs with [bin] common neighbor\n",
    "- \"dir_spair\" - number of pairs with [bin] common successor (strict, not a predecessor to any)\n",
    "- \"dir_ppair\" - number of pairs with [bin] common predecessor (strict, not a successor to any)\n",
    "- \"undir_conn\" - number of connected pairs with [bin] common neighbor\n",
    "- \"dir_sconn\" - number of connected pairs with [bin] common successor (strict, not a predecessor to any)\n",
    "- \"dir_pconn\" - number of connected pairs with [bin] common predecessor (strict, not a successor to any)\n",
    "- \"dir_uni_sconn\" - number of unidirectionally connected pairs with [bin] common successor (strict, not a predecessor to any)\n",
    "- \"dir_uni_pconn\" - number of unidirectionally connected pairs with [bin] common predecessor (strict, not a successor to any)\n",
    "- \"dir_bi_sconn\" - number of bidirectionally connected pairs with [bin] common successor (strict, not a predecessor to any)\n",
    "- \"dir_bi_pconn\" - number of bidirectionally connected pairs with [bin] common predecessor (strict, not a successor to any)\n",
    "- \"undir_perc\" - percentage of pairs with [bin] common neighbor to be connected\n",
    "- \"dir_sperc\" - percentage of pairs with [bin] strict common successor to be connected\n",
    "- \"dir_pperc\" - percentage of pairs with [bin] strict common predcessor to be connected"
   ]
  },
  {
   "cell_type": "code",
   "execution_count": 8,
   "metadata": {},
   "outputs": [
    {
     "data": {
      "text/html": [
       "<div>\n",
       "<style scoped>\n",
       "    .dataframe tbody tr th:only-of-type {\n",
       "        vertical-align: middle;\n",
       "    }\n",
       "\n",
       "    .dataframe tbody tr th {\n",
       "        vertical-align: top;\n",
       "    }\n",
       "\n",
       "    .dataframe thead th {\n",
       "        text-align: right;\n",
       "    }\n",
       "</style>\n",
       "<table border=\"1\" class=\"dataframe\">\n",
       "  <thead>\n",
       "    <tr style=\"text-align: right;\">\n",
       "      <th></th>\n",
       "      <th>undir_pair</th>\n",
       "      <th>dir_spair</th>\n",
       "      <th>dir_ppair</th>\n",
       "      <th>undir_conn</th>\n",
       "      <th>dir_sconn</th>\n",
       "      <th>dir_pconn</th>\n",
       "      <th>dir_uni_sconn</th>\n",
       "      <th>dir_uni_pconn</th>\n",
       "      <th>dir_bi_sconn</th>\n",
       "      <th>dir_bi_pconn</th>\n",
       "      <th>undir_perc</th>\n",
       "      <th>dir_sperc</th>\n",
       "      <th>dir_pperc</th>\n",
       "    </tr>\n",
       "  </thead>\n",
       "  <tbody>\n",
       "    <tr>\n",
       "      <th>0</th>\n",
       "      <td>44285.0</td>\n",
       "      <td>62906.0</td>\n",
       "      <td>50026.0</td>\n",
       "      <td>465.0</td>\n",
       "      <td>1290.0</td>\n",
       "      <td>973.0</td>\n",
       "      <td>1280.0</td>\n",
       "      <td>955.0</td>\n",
       "      <td>10.0</td>\n",
       "      <td>18.0</td>\n",
       "      <td>0.010500</td>\n",
       "      <td>0.020507</td>\n",
       "      <td>0.019450</td>\n",
       "    </tr>\n",
       "    <tr>\n",
       "      <th>1</th>\n",
       "      <td>13395.0</td>\n",
       "      <td>1445.0</td>\n",
       "      <td>12213.0</td>\n",
       "      <td>436.0</td>\n",
       "      <td>163.0</td>\n",
       "      <td>527.0</td>\n",
       "      <td>155.0</td>\n",
       "      <td>517.0</td>\n",
       "      <td>8.0</td>\n",
       "      <td>10.0</td>\n",
       "      <td>0.032549</td>\n",
       "      <td>0.112803</td>\n",
       "      <td>0.043151</td>\n",
       "    </tr>\n",
       "    <tr>\n",
       "      <th>2</th>\n",
       "      <td>4545.0</td>\n",
       "      <td>723.0</td>\n",
       "      <td>2698.0</td>\n",
       "      <td>312.0</td>\n",
       "      <td>118.0</td>\n",
       "      <td>155.0</td>\n",
       "      <td>110.0</td>\n",
       "      <td>153.0</td>\n",
       "      <td>8.0</td>\n",
       "      <td>2.0</td>\n",
       "      <td>0.068647</td>\n",
       "      <td>0.163209</td>\n",
       "      <td>0.057450</td>\n",
       "    </tr>\n",
       "    <tr>\n",
       "      <th>3</th>\n",
       "      <td>1804.0</td>\n",
       "      <td>320.0</td>\n",
       "      <td>622.0</td>\n",
       "      <td>181.0</td>\n",
       "      <td>69.0</td>\n",
       "      <td>49.0</td>\n",
       "      <td>64.0</td>\n",
       "      <td>48.0</td>\n",
       "      <td>5.0</td>\n",
       "      <td>1.0</td>\n",
       "      <td>0.100333</td>\n",
       "      <td>0.215625</td>\n",
       "      <td>0.078778</td>\n",
       "    </tr>\n",
       "    <tr>\n",
       "      <th>4</th>\n",
       "      <td>802.0</td>\n",
       "      <td>144.0</td>\n",
       "      <td>117.0</td>\n",
       "      <td>132.0</td>\n",
       "      <td>26.0</td>\n",
       "      <td>11.0</td>\n",
       "      <td>26.0</td>\n",
       "      <td>11.0</td>\n",
       "      <td>0.0</td>\n",
       "      <td>0.0</td>\n",
       "      <td>0.164589</td>\n",
       "      <td>0.180556</td>\n",
       "      <td>0.094017</td>\n",
       "    </tr>\n",
       "    <tr>\n",
       "      <th>5</th>\n",
       "      <td>404.0</td>\n",
       "      <td>68.0</td>\n",
       "      <td>22.0</td>\n",
       "      <td>74.0</td>\n",
       "      <td>13.0</td>\n",
       "      <td>4.0</td>\n",
       "      <td>13.0</td>\n",
       "      <td>4.0</td>\n",
       "      <td>0.0</td>\n",
       "      <td>0.0</td>\n",
       "      <td>0.183168</td>\n",
       "      <td>0.191176</td>\n",
       "      <td>0.181818</td>\n",
       "    </tr>\n",
       "    <tr>\n",
       "      <th>6</th>\n",
       "      <td>182.0</td>\n",
       "      <td>39.0</td>\n",
       "      <td>5.0</td>\n",
       "      <td>37.0</td>\n",
       "      <td>18.0</td>\n",
       "      <td>0.0</td>\n",
       "      <td>18.0</td>\n",
       "      <td>0.0</td>\n",
       "      <td>0.0</td>\n",
       "      <td>0.0</td>\n",
       "      <td>0.203297</td>\n",
       "      <td>0.461538</td>\n",
       "      <td>0.000000</td>\n",
       "    </tr>\n",
       "    <tr>\n",
       "      <th>7</th>\n",
       "      <td>119.0</td>\n",
       "      <td>25.0</td>\n",
       "      <td>0.0</td>\n",
       "      <td>18.0</td>\n",
       "      <td>8.0</td>\n",
       "      <td>0.0</td>\n",
       "      <td>8.0</td>\n",
       "      <td>0.0</td>\n",
       "      <td>0.0</td>\n",
       "      <td>0.0</td>\n",
       "      <td>0.151261</td>\n",
       "      <td>0.320000</td>\n",
       "      <td>0.000000</td>\n",
       "    </tr>\n",
       "    <tr>\n",
       "      <th>8</th>\n",
       "      <td>63.0</td>\n",
       "      <td>14.0</td>\n",
       "      <td>0.0</td>\n",
       "      <td>22.0</td>\n",
       "      <td>7.0</td>\n",
       "      <td>0.0</td>\n",
       "      <td>7.0</td>\n",
       "      <td>0.0</td>\n",
       "      <td>0.0</td>\n",
       "      <td>0.0</td>\n",
       "      <td>0.349206</td>\n",
       "      <td>0.500000</td>\n",
       "      <td>0.000000</td>\n",
       "    </tr>\n",
       "    <tr>\n",
       "      <th>9</th>\n",
       "      <td>104.0</td>\n",
       "      <td>19.0</td>\n",
       "      <td>0.0</td>\n",
       "      <td>42.0</td>\n",
       "      <td>7.0</td>\n",
       "      <td>0.0</td>\n",
       "      <td>7.0</td>\n",
       "      <td>0.0</td>\n",
       "      <td>0.0</td>\n",
       "      <td>0.0</td>\n",
       "      <td>0.403846</td>\n",
       "      <td>0.368421</td>\n",
       "      <td>0.000000</td>\n",
       "    </tr>\n",
       "  </tbody>\n",
       "</table>\n",
       "</div>"
      ],
      "text/plain": [
       "   undir_pair  dir_spair  dir_ppair  undir_conn  dir_sconn  dir_pconn  \\\n",
       "0     44285.0    62906.0    50026.0       465.0     1290.0      973.0   \n",
       "1     13395.0     1445.0    12213.0       436.0      163.0      527.0   \n",
       "2      4545.0      723.0     2698.0       312.0      118.0      155.0   \n",
       "3      1804.0      320.0      622.0       181.0       69.0       49.0   \n",
       "4       802.0      144.0      117.0       132.0       26.0       11.0   \n",
       "5       404.0       68.0       22.0        74.0       13.0        4.0   \n",
       "6       182.0       39.0        5.0        37.0       18.0        0.0   \n",
       "7       119.0       25.0        0.0        18.0        8.0        0.0   \n",
       "8        63.0       14.0        0.0        22.0        7.0        0.0   \n",
       "9       104.0       19.0        0.0        42.0        7.0        0.0   \n",
       "\n",
       "   dir_uni_sconn  dir_uni_pconn  dir_bi_sconn  dir_bi_pconn  undir_perc  \\\n",
       "0         1280.0          955.0          10.0          18.0    0.010500   \n",
       "1          155.0          517.0           8.0          10.0    0.032549   \n",
       "2          110.0          153.0           8.0           2.0    0.068647   \n",
       "3           64.0           48.0           5.0           1.0    0.100333   \n",
       "4           26.0           11.0           0.0           0.0    0.164589   \n",
       "5           13.0            4.0           0.0           0.0    0.183168   \n",
       "6           18.0            0.0           0.0           0.0    0.203297   \n",
       "7            8.0            0.0           0.0           0.0    0.151261   \n",
       "8            7.0            0.0           0.0           0.0    0.349206   \n",
       "9            7.0            0.0           0.0           0.0    0.403846   \n",
       "\n",
       "   dir_sperc  dir_pperc  \n",
       "0   0.020507   0.019450  \n",
       "1   0.112803   0.043151  \n",
       "2   0.163209   0.057450  \n",
       "3   0.215625   0.078778  \n",
       "4   0.180556   0.094017  \n",
       "5   0.191176   0.181818  \n",
       "6   0.461538   0.000000  \n",
       "7   0.320000   0.000000  \n",
       "8   0.500000   0.000000  \n",
       "9   0.368421   0.000000  "
      ]
     },
     "execution_count": 8,
     "metadata": {},
     "output_type": "execute_result"
    }
   ],
   "source": [
    "obs_cnr_stats"
   ]
  },
  {
   "cell_type": "code",
   "execution_count": 9,
   "metadata": {},
   "outputs": [
    {
     "data": {
      "application/vnd.jupyter.widget-view+json": {
       "model_id": "1888a3073a0c4b92b6f8602ab3fe1245",
       "version_major": 2,
       "version_minor": 0
      },
      "text/plain": [
       "HBox(children=(FloatProgress(value=0.0), HTML(value='')))"
      ]
     },
     "metadata": {},
     "output_type": "display_data"
    },
    {
     "name": "stdout",
     "output_type": "stream",
     "text": [
      "\n",
      "CPU times: user 3min 22s, sys: 132 ms, total: 3min 22s\n",
      "Wall time: 3min 22s\n"
     ]
    }
   ],
   "source": [
    "%%time\n",
    "# sample graphs from CFG model and compute CNR stats\n",
    "s=100 # total 100 samples (100 continous samples)\n",
    "cfg_cnr_samples = continuous_sample_cnr(g_full, samples=s, niters=int(1e4))\n",
    "cfg_cnr_stats, cfg_cnr_stats_std = cnr_mean_std(cfg_cnr_samples)"
   ]
  },
  {
   "cell_type": "code",
   "execution_count": 11,
   "metadata": {},
   "outputs": [],
   "source": [
    "# save sampled CNR stats from CFG model as intermediate data\n",
    "cfg_cnr_stats.to_csv(\"saved/full_cnr_cfg100.csv\", index=False)\n",
    "cfg_cnr_stats_std.to_csv(\"saved/full_cnrstd_cfg100.csv\", index=False)"
   ]
  },
  {
   "cell_type": "code",
   "execution_count": 12,
   "metadata": {},
   "outputs": [],
   "source": [
    "# load precomputed CNR stats counts from CFG model\n",
    "cfg_cnr_stats = pd.read_csv(\"saved/full_cnr_cfg100.csv\")\n",
    "cfg_cnr_stats_std = pd.read_csv(\"saved/full_cnrstd_cfg100.csv\")"
   ]
  },
  {
   "cell_type": "code",
   "execution_count": 13,
   "metadata": {},
   "outputs": [
    {
     "data": {
      "text/html": [
       "<div>\n",
       "<style scoped>\n",
       "    .dataframe tbody tr th:only-of-type {\n",
       "        vertical-align: middle;\n",
       "    }\n",
       "\n",
       "    .dataframe tbody tr th {\n",
       "        vertical-align: top;\n",
       "    }\n",
       "\n",
       "    .dataframe thead th {\n",
       "        text-align: right;\n",
       "    }\n",
       "</style>\n",
       "<table border=\"1\" class=\"dataframe\">\n",
       "  <thead>\n",
       "    <tr style=\"text-align: right;\">\n",
       "      <th></th>\n",
       "      <th>undir_pair</th>\n",
       "      <th>dir_spair</th>\n",
       "      <th>dir_ppair</th>\n",
       "      <th>undir_conn</th>\n",
       "      <th>dir_sconn</th>\n",
       "      <th>dir_pconn</th>\n",
       "      <th>dir_uni_sconn</th>\n",
       "      <th>dir_uni_pconn</th>\n",
       "      <th>dir_bi_sconn</th>\n",
       "      <th>dir_bi_pconn</th>\n",
       "      <th>undir_perc</th>\n",
       "      <th>dir_sperc</th>\n",
       "      <th>dir_pperc</th>\n",
       "    </tr>\n",
       "  </thead>\n",
       "  <tbody>\n",
       "    <tr>\n",
       "      <th>0</th>\n",
       "      <td>34168.99</td>\n",
       "      <td>53105.78</td>\n",
       "      <td>40098.92</td>\n",
       "      <td>510.41</td>\n",
       "      <td>1307.66</td>\n",
       "      <td>1040.92</td>\n",
       "      <td>1301.62</td>\n",
       "      <td>1028.61</td>\n",
       "      <td>6.04</td>\n",
       "      <td>12.31</td>\n",
       "      <td>0.014938</td>\n",
       "      <td>0.024624</td>\n",
       "      <td>0.025959</td>\n",
       "    </tr>\n",
       "    <tr>\n",
       "      <th>1</th>\n",
       "      <td>13650.00</td>\n",
       "      <td>1480.28</td>\n",
       "      <td>12421.74</td>\n",
       "      <td>449.57</td>\n",
       "      <td>181.62</td>\n",
       "      <td>490.74</td>\n",
       "      <td>175.43</td>\n",
       "      <td>483.26</td>\n",
       "      <td>6.19</td>\n",
       "      <td>7.48</td>\n",
       "      <td>0.032936</td>\n",
       "      <td>0.122725</td>\n",
       "      <td>0.039507</td>\n",
       "    </tr>\n",
       "    <tr>\n",
       "      <th>2</th>\n",
       "      <td>4641.75</td>\n",
       "      <td>717.05</td>\n",
       "      <td>2718.26</td>\n",
       "      <td>302.90</td>\n",
       "      <td>108.32</td>\n",
       "      <td>149.98</td>\n",
       "      <td>104.33</td>\n",
       "      <td>147.58</td>\n",
       "      <td>3.99</td>\n",
       "      <td>2.40</td>\n",
       "      <td>0.065250</td>\n",
       "      <td>0.151064</td>\n",
       "      <td>0.055167</td>\n",
       "    </tr>\n",
       "    <tr>\n",
       "      <th>3</th>\n",
       "      <td>1834.82</td>\n",
       "      <td>331.79</td>\n",
       "      <td>567.63</td>\n",
       "      <td>188.23</td>\n",
       "      <td>57.58</td>\n",
       "      <td>36.35</td>\n",
       "      <td>54.93</td>\n",
       "      <td>35.87</td>\n",
       "      <td>2.65</td>\n",
       "      <td>0.48</td>\n",
       "      <td>0.102577</td>\n",
       "      <td>0.173499</td>\n",
       "      <td>0.064043</td>\n",
       "    </tr>\n",
       "    <tr>\n",
       "      <th>4</th>\n",
       "      <td>818.55</td>\n",
       "      <td>153.33</td>\n",
       "      <td>112.34</td>\n",
       "      <td>113.30</td>\n",
       "      <td>32.02</td>\n",
       "      <td>7.55</td>\n",
       "      <td>30.55</td>\n",
       "      <td>7.43</td>\n",
       "      <td>1.47</td>\n",
       "      <td>0.12</td>\n",
       "      <td>0.138431</td>\n",
       "      <td>0.208846</td>\n",
       "      <td>0.066536</td>\n",
       "    </tr>\n",
       "    <tr>\n",
       "      <th>5</th>\n",
       "      <td>395.00</td>\n",
       "      <td>73.16</td>\n",
       "      <td>21.44</td>\n",
       "      <td>66.38</td>\n",
       "      <td>16.96</td>\n",
       "      <td>1.42</td>\n",
       "      <td>15.98</td>\n",
       "      <td>1.42</td>\n",
       "      <td>0.98</td>\n",
       "      <td>0.00</td>\n",
       "      <td>0.167986</td>\n",
       "      <td>0.231812</td>\n",
       "      <td>0.064754</td>\n",
       "    </tr>\n",
       "    <tr>\n",
       "      <th>6</th>\n",
       "      <td>199.89</td>\n",
       "      <td>36.87</td>\n",
       "      <td>3.89</td>\n",
       "      <td>39.18</td>\n",
       "      <td>9.33</td>\n",
       "      <td>0.19</td>\n",
       "      <td>8.83</td>\n",
       "      <td>0.19</td>\n",
       "      <td>0.50</td>\n",
       "      <td>0.00</td>\n",
       "      <td>0.195987</td>\n",
       "      <td>0.252444</td>\n",
       "      <td>0.043218</td>\n",
       "    </tr>\n",
       "    <tr>\n",
       "      <th>7</th>\n",
       "      <td>103.34</td>\n",
       "      <td>20.01</td>\n",
       "      <td>0.66</td>\n",
       "      <td>22.57</td>\n",
       "      <td>5.56</td>\n",
       "      <td>0.05</td>\n",
       "      <td>5.21</td>\n",
       "      <td>0.05</td>\n",
       "      <td>0.35</td>\n",
       "      <td>0.00</td>\n",
       "      <td>0.217712</td>\n",
       "      <td>0.276871</td>\n",
       "      <td>0.033333</td>\n",
       "    </tr>\n",
       "    <tr>\n",
       "      <th>8</th>\n",
       "      <td>57.01</td>\n",
       "      <td>11.10</td>\n",
       "      <td>0.12</td>\n",
       "      <td>13.71</td>\n",
       "      <td>3.07</td>\n",
       "      <td>0.01</td>\n",
       "      <td>2.87</td>\n",
       "      <td>0.01</td>\n",
       "      <td>0.20</td>\n",
       "      <td>0.00</td>\n",
       "      <td>0.239306</td>\n",
       "      <td>0.274868</td>\n",
       "      <td>0.005000</td>\n",
       "    </tr>\n",
       "    <tr>\n",
       "      <th>9</th>\n",
       "      <td>75.65</td>\n",
       "      <td>15.63</td>\n",
       "      <td>0.00</td>\n",
       "      <td>20.96</td>\n",
       "      <td>5.09</td>\n",
       "      <td>0.00</td>\n",
       "      <td>4.67</td>\n",
       "      <td>0.00</td>\n",
       "      <td>0.42</td>\n",
       "      <td>0.00</td>\n",
       "      <td>0.274827</td>\n",
       "      <td>0.330607</td>\n",
       "      <td>0.000000</td>\n",
       "    </tr>\n",
       "  </tbody>\n",
       "</table>\n",
       "</div>"
      ],
      "text/plain": [
       "   undir_pair  dir_spair  dir_ppair  undir_conn  dir_sconn  dir_pconn  \\\n",
       "0    34168.99   53105.78   40098.92      510.41    1307.66    1040.92   \n",
       "1    13650.00    1480.28   12421.74      449.57     181.62     490.74   \n",
       "2     4641.75     717.05    2718.26      302.90     108.32     149.98   \n",
       "3     1834.82     331.79     567.63      188.23      57.58      36.35   \n",
       "4      818.55     153.33     112.34      113.30      32.02       7.55   \n",
       "5      395.00      73.16      21.44       66.38      16.96       1.42   \n",
       "6      199.89      36.87       3.89       39.18       9.33       0.19   \n",
       "7      103.34      20.01       0.66       22.57       5.56       0.05   \n",
       "8       57.01      11.10       0.12       13.71       3.07       0.01   \n",
       "9       75.65      15.63       0.00       20.96       5.09       0.00   \n",
       "\n",
       "   dir_uni_sconn  dir_uni_pconn  dir_bi_sconn  dir_bi_pconn  undir_perc  \\\n",
       "0        1301.62        1028.61          6.04         12.31    0.014938   \n",
       "1         175.43         483.26          6.19          7.48    0.032936   \n",
       "2         104.33         147.58          3.99          2.40    0.065250   \n",
       "3          54.93          35.87          2.65          0.48    0.102577   \n",
       "4          30.55           7.43          1.47          0.12    0.138431   \n",
       "5          15.98           1.42          0.98          0.00    0.167986   \n",
       "6           8.83           0.19          0.50          0.00    0.195987   \n",
       "7           5.21           0.05          0.35          0.00    0.217712   \n",
       "8           2.87           0.01          0.20          0.00    0.239306   \n",
       "9           4.67           0.00          0.42          0.00    0.274827   \n",
       "\n",
       "   dir_sperc  dir_pperc  \n",
       "0   0.024624   0.025959  \n",
       "1   0.122725   0.039507  \n",
       "2   0.151064   0.055167  \n",
       "3   0.173499   0.064043  \n",
       "4   0.208846   0.066536  \n",
       "5   0.231812   0.064754  \n",
       "6   0.252444   0.043218  \n",
       "7   0.276871   0.033333  \n",
       "8   0.274868   0.005000  \n",
       "9   0.330607   0.000000  "
      ]
     },
     "execution_count": 13,
     "metadata": {},
     "output_type": "execute_result"
    }
   ],
   "source": [
    "cfg_cnr_stats"
   ]
  },
  {
   "cell_type": "code",
   "execution_count": 14,
   "metadata": {},
   "outputs": [
    {
     "data": {
      "image/png": "[encoded data removed]",
      "text/plain": [
       "<Figure size 720x288 with 1 Axes>"
      ]
     },
     "metadata": {
      "needs_background": "light"
     },
     "output_type": "display_data"
    }
   ],
   "source": [
    "# plot CNR curves\n",
    "E, N = len(g_full.edges), len(g_full.nodes)\n",
    "ER_p_null = (1 - E / (N*(N-1)))**2\n",
    "\n",
    "plot_cnr(obs_cnr_stats, cfg_cnr_stats, cfg_cnr_stats_std, ER_p_null, figsize=(10,4), fname=\"full/full_cnr\")"
   ]
  },
  {
   "cell_type": "code",
   "execution_count": 15,
   "metadata": {},
   "outputs": [
    {
     "data": {
      "text/plain": [
       "(0.8654259685162915, 9.495865324184074e-05)"
      ]
     },
     "execution_count": 15,
     "metadata": {},
     "output_type": "execute_result"
    }
   ],
   "source": [
    "# Pearson r^2 and p-value for OBS\n",
    "pearson_r2(np.arange(10), obs_cnr_stats[\"undir_perc\"])"
   ]
  },
  {
   "cell_type": "code",
   "execution_count": 16,
   "metadata": {},
   "outputs": [
    {
     "data": {
      "text/plain": [
       "(0.9945213430805371, 2.4689281928199044e-10)"
      ]
     },
     "execution_count": 16,
     "metadata": {},
     "output_type": "execute_result"
    }
   ],
   "source": [
    "# Pearson r^2 and p-value for CFG\n",
    "pearson_r2(np.arange(10), cfg_cnr_stats[\"undir_perc\"])"
   ]
  },
  {
   "cell_type": "markdown",
   "metadata": {},
   "source": [
    "### 3. Common Neighbor Rule (OBS vs gER vs gCFG)"
   ]
  },
  {
   "cell_type": "code",
   "execution_count": 17,
   "metadata": {},
   "outputs": [
    {
     "data": {
      "application/vnd.jupyter.widget-view+json": {
       "model_id": "1309a66ba01d4c32bc4fb1a1c78d1aaa",
       "version_major": 2,
       "version_minor": 0
      },
      "text/plain": [
       "HBox(children=(FloatProgress(value=0.0), HTML(value='')))"
      ]
     },
     "metadata": {},
     "output_type": "display_data"
    },
    {
     "name": "stdout",
     "output_type": "stream",
     "text": [
      "\n",
      "CPU times: user 3min 43s, sys: 80 ms, total: 3min 43s\n",
      "Wall time: 3min 44s\n"
     ]
    }
   ],
   "source": [
    "%%time\n",
    "# sample graphs from gCFG model and compute CNR stats\n",
    "s=100 # total 100 samples (100 continous samples)\n",
    "cfg_cnr_samples_GE = continuous_sample_cnr_GE(g_full, samples=s, niters=int(1e4))\n",
    "cfg_cnr_stats_GE, cfg_cnr_stats_std_GE = cnr_mean_std(cfg_cnr_samples_GE)"
   ]
  },
  {
   "cell_type": "code",
   "execution_count": 18,
   "metadata": {},
   "outputs": [],
   "source": [
    "# save sampled CNR stats from CFG model as intermediate data\n",
    "cfg_cnr_stats_GE.to_csv(\"saved/full_cnr_gcfg100.csv\", index=False)\n",
    "cfg_cnr_stats_std_GE.to_csv(\"saved/full_cnrstd_gcfg100.csv\", index=False)"
   ]
  },
  {
   "cell_type": "code",
   "execution_count": 19,
   "metadata": {},
   "outputs": [],
   "source": [
    "# load precomputed CNR stats counts from CFG model\n",
    "cfg_cnr_stats_GE = pd.read_csv(\"saved/full_cnr_gcfg100.csv\")\n",
    "cfg_cnr_stats_std_GE = pd.read_csv(\"saved/full_cnrstd_gcfg100.csv\")"
   ]
  },
  {
   "cell_type": "code",
   "execution_count": 20,
   "metadata": {},
   "outputs": [
    {
     "data": {
      "text/html": [
       "<div>\n",
       "<style scoped>\n",
       "    .dataframe tbody tr th:only-of-type {\n",
       "        vertical-align: middle;\n",
       "    }\n",
       "\n",
       "    .dataframe tbody tr th {\n",
       "        vertical-align: top;\n",
       "    }\n",
       "\n",
       "    .dataframe thead th {\n",
       "        text-align: right;\n",
       "    }\n",
       "</style>\n",
       "<table border=\"1\" class=\"dataframe\">\n",
       "  <thead>\n",
       "    <tr style=\"text-align: right;\">\n",
       "      <th></th>\n",
       "      <th>undir_pair</th>\n",
       "      <th>dir_spair</th>\n",
       "      <th>dir_ppair</th>\n",
       "      <th>undir_conn</th>\n",
       "      <th>dir_sconn</th>\n",
       "      <th>dir_pconn</th>\n",
       "      <th>dir_uni_sconn</th>\n",
       "      <th>dir_uni_pconn</th>\n",
       "      <th>dir_bi_sconn</th>\n",
       "      <th>dir_bi_pconn</th>\n",
       "      <th>undir_perc</th>\n",
       "      <th>dir_sperc</th>\n",
       "      <th>dir_pperc</th>\n",
       "    </tr>\n",
       "  </thead>\n",
       "  <tbody>\n",
       "    <tr>\n",
       "      <th>0</th>\n",
       "      <td>34323.94</td>\n",
       "      <td>53125.74</td>\n",
       "      <td>40274.34</td>\n",
       "      <td>517.68</td>\n",
       "      <td>1307.86</td>\n",
       "      <td>1050.85</td>\n",
       "      <td>1300.02</td>\n",
       "      <td>1033.90</td>\n",
       "      <td>7.84</td>\n",
       "      <td>16.95</td>\n",
       "      <td>0.015083</td>\n",
       "      <td>0.024618</td>\n",
       "      <td>0.026093</td>\n",
       "    </tr>\n",
       "    <tr>\n",
       "      <th>1</th>\n",
       "      <td>13612.23</td>\n",
       "      <td>1473.91</td>\n",
       "      <td>12310.41</td>\n",
       "      <td>451.35</td>\n",
       "      <td>180.06</td>\n",
       "      <td>482.63</td>\n",
       "      <td>171.97</td>\n",
       "      <td>472.54</td>\n",
       "      <td>8.09</td>\n",
       "      <td>10.09</td>\n",
       "      <td>0.033157</td>\n",
       "      <td>0.122155</td>\n",
       "      <td>0.039209</td>\n",
       "    </tr>\n",
       "    <tr>\n",
       "      <th>2</th>\n",
       "      <td>4607.27</td>\n",
       "      <td>713.07</td>\n",
       "      <td>2671.86</td>\n",
       "      <td>302.54</td>\n",
       "      <td>104.47</td>\n",
       "      <td>142.32</td>\n",
       "      <td>98.58</td>\n",
       "      <td>139.20</td>\n",
       "      <td>5.89</td>\n",
       "      <td>3.12</td>\n",
       "      <td>0.065665</td>\n",
       "      <td>0.146541</td>\n",
       "      <td>0.053265</td>\n",
       "    </tr>\n",
       "    <tr>\n",
       "      <th>3</th>\n",
       "      <td>1809.09</td>\n",
       "      <td>327.44</td>\n",
       "      <td>552.82</td>\n",
       "      <td>184.94</td>\n",
       "      <td>57.93</td>\n",
       "      <td>34.58</td>\n",
       "      <td>54.30</td>\n",
       "      <td>33.90</td>\n",
       "      <td>3.63</td>\n",
       "      <td>0.68</td>\n",
       "      <td>0.102265</td>\n",
       "      <td>0.176856</td>\n",
       "      <td>0.062545</td>\n",
       "    </tr>\n",
       "    <tr>\n",
       "      <th>4</th>\n",
       "      <td>798.83</td>\n",
       "      <td>150.93</td>\n",
       "      <td>110.25</td>\n",
       "      <td>109.35</td>\n",
       "      <td>29.81</td>\n",
       "      <td>7.07</td>\n",
       "      <td>27.57</td>\n",
       "      <td>6.94</td>\n",
       "      <td>2.24</td>\n",
       "      <td>0.13</td>\n",
       "      <td>0.136941</td>\n",
       "      <td>0.197223</td>\n",
       "      <td>0.064327</td>\n",
       "    </tr>\n",
       "    <tr>\n",
       "      <th>5</th>\n",
       "      <td>379.09</td>\n",
       "      <td>71.92</td>\n",
       "      <td>20.70</td>\n",
       "      <td>62.25</td>\n",
       "      <td>16.32</td>\n",
       "      <td>1.33</td>\n",
       "      <td>15.16</td>\n",
       "      <td>1.32</td>\n",
       "      <td>1.16</td>\n",
       "      <td>0.01</td>\n",
       "      <td>0.164170</td>\n",
       "      <td>0.226404</td>\n",
       "      <td>0.062714</td>\n",
       "    </tr>\n",
       "    <tr>\n",
       "      <th>6</th>\n",
       "      <td>190.55</td>\n",
       "      <td>36.18</td>\n",
       "      <td>3.87</td>\n",
       "      <td>36.99</td>\n",
       "      <td>9.08</td>\n",
       "      <td>0.21</td>\n",
       "      <td>8.24</td>\n",
       "      <td>0.19</td>\n",
       "      <td>0.84</td>\n",
       "      <td>0.02</td>\n",
       "      <td>0.194052</td>\n",
       "      <td>0.251327</td>\n",
       "      <td>0.059254</td>\n",
       "    </tr>\n",
       "    <tr>\n",
       "      <th>7</th>\n",
       "      <td>98.75</td>\n",
       "      <td>19.29</td>\n",
       "      <td>0.63</td>\n",
       "      <td>21.12</td>\n",
       "      <td>5.09</td>\n",
       "      <td>0.01</td>\n",
       "      <td>4.62</td>\n",
       "      <td>0.01</td>\n",
       "      <td>0.47</td>\n",
       "      <td>0.00</td>\n",
       "      <td>0.214151</td>\n",
       "      <td>0.264656</td>\n",
       "      <td>0.005000</td>\n",
       "    </tr>\n",
       "    <tr>\n",
       "      <th>8</th>\n",
       "      <td>53.80</td>\n",
       "      <td>11.17</td>\n",
       "      <td>0.12</td>\n",
       "      <td>13.08</td>\n",
       "      <td>3.28</td>\n",
       "      <td>0.00</td>\n",
       "      <td>3.00</td>\n",
       "      <td>0.00</td>\n",
       "      <td>0.28</td>\n",
       "      <td>0.00</td>\n",
       "      <td>0.242553</td>\n",
       "      <td>0.299216</td>\n",
       "      <td>0.000000</td>\n",
       "    </tr>\n",
       "    <tr>\n",
       "      <th>9</th>\n",
       "      <td>71.45</td>\n",
       "      <td>15.35</td>\n",
       "      <td>0.00</td>\n",
       "      <td>19.70</td>\n",
       "      <td>5.10</td>\n",
       "      <td>0.00</td>\n",
       "      <td>4.54</td>\n",
       "      <td>0.00</td>\n",
       "      <td>0.56</td>\n",
       "      <td>0.00</td>\n",
       "      <td>0.275281</td>\n",
       "      <td>0.330084</td>\n",
       "      <td>0.000000</td>\n",
       "    </tr>\n",
       "  </tbody>\n",
       "</table>\n",
       "</div>"
      ],
      "text/plain": [
       "   undir_pair  dir_spair  dir_ppair  undir_conn  dir_sconn  dir_pconn  \\\n",
       "0    34323.94   53125.74   40274.34      517.68    1307.86    1050.85   \n",
       "1    13612.23    1473.91   12310.41      451.35     180.06     482.63   \n",
       "2     4607.27     713.07    2671.86      302.54     104.47     142.32   \n",
       "3     1809.09     327.44     552.82      184.94      57.93      34.58   \n",
       "4      798.83     150.93     110.25      109.35      29.81       7.07   \n",
       "5      379.09      71.92      20.70       62.25      16.32       1.33   \n",
       "6      190.55      36.18       3.87       36.99       9.08       0.21   \n",
       "7       98.75      19.29       0.63       21.12       5.09       0.01   \n",
       "8       53.80      11.17       0.12       13.08       3.28       0.00   \n",
       "9       71.45      15.35       0.00       19.70       5.10       0.00   \n",
       "\n",
       "   dir_uni_sconn  dir_uni_pconn  dir_bi_sconn  dir_bi_pconn  undir_perc  \\\n",
       "0        1300.02        1033.90          7.84         16.95    0.015083   \n",
       "1         171.97         472.54          8.09         10.09    0.033157   \n",
       "2          98.58         139.20          5.89          3.12    0.065665   \n",
       "3          54.30          33.90          3.63          0.68    0.102265   \n",
       "4          27.57           6.94          2.24          0.13    0.136941   \n",
       "5          15.16           1.32          1.16          0.01    0.164170   \n",
       "6           8.24           0.19          0.84          0.02    0.194052   \n",
       "7           4.62           0.01          0.47          0.00    0.214151   \n",
       "8           3.00           0.00          0.28          0.00    0.242553   \n",
       "9           4.54           0.00          0.56          0.00    0.275281   \n",
       "\n",
       "   dir_sperc  dir_pperc  \n",
       "0   0.024618   0.026093  \n",
       "1   0.122155   0.039209  \n",
       "2   0.146541   0.053265  \n",
       "3   0.176856   0.062545  \n",
       "4   0.197223   0.064327  \n",
       "5   0.226404   0.062714  \n",
       "6   0.251327   0.059254  \n",
       "7   0.264656   0.005000  \n",
       "8   0.299216   0.000000  \n",
       "9   0.330084   0.000000  "
      ]
     },
     "execution_count": 20,
     "metadata": {},
     "output_type": "execute_result"
    }
   ],
   "source": [
    "cfg_cnr_stats_GE"
   ]
  },
  {
   "cell_type": "code",
   "execution_count": 21,
   "metadata": {},
   "outputs": [
    {
     "data": {
      "image/png": "[encoded data removed]",
      "text/plain": [
       "<Figure size 432x288 with 1 Axes>"
      ]
     },
     "metadata": {
      "needs_background": "light"
     },
     "output_type": "display_data"
    }
   ],
   "source": [
    "# plot CNR curves\n",
    "_, two_pr_GE = compute_three_neuron_motif_probabilities_GE(g_full)\n",
    "ER_p_null_GE = 1 - 2*two_pr_GE[\"pr_uni\"] - two_pr_GE[\"pr_bi\"]\n",
    "\n",
    "plot_cnr(obs_cnr_stats, cfg_cnr_stats_GE, cfg_cnr_stats_std_GE, ER_p_null_GE, \n",
    "         figsize=(6,4), fontsizes=(16, 16, 16, 14), cfg_name=\"CFG (generalized)\", er_name=\"ER (generalized)\", fname=\"full/full_cnr_GE\")"
   ]
  },
  {
   "cell_type": "code",
   "execution_count": 22,
   "metadata": {},
   "outputs": [
    {
     "data": {
      "text/plain": [
       "(0.8654259685162915, 9.495865324184074e-05)"
      ]
     },
     "execution_count": 22,
     "metadata": {},
     "output_type": "execute_result"
    }
   ],
   "source": [
    "# Pearson r^2 and p-value for OBS\n",
    "pearson_r2(np.arange(10), obs_cnr_stats[\"undir_perc\"])"
   ]
  },
  {
   "cell_type": "code",
   "execution_count": 23,
   "metadata": {},
   "outputs": [
    {
     "data": {
      "text/plain": [
       "(0.9964073937992797, 4.561646108739011e-11)"
      ]
     },
     "execution_count": 23,
     "metadata": {},
     "output_type": "execute_result"
    }
   ],
   "source": [
    "# Pearson r^2 and p-value for gCFG\n",
    "pearson_r2(np.arange(10), cfg_cnr_stats_GE[\"undir_perc\"])"
   ]
  },
  {
   "cell_type": "markdown",
   "metadata": {},
   "source": [
    "### 4. Common Neighbor Rule (OBS vs gER vs CFG)"
   ]
  },
  {
   "cell_type": "code",
   "execution_count": 24,
   "metadata": {},
   "outputs": [
    {
     "data": {
      "image/png": "[encoded data removed]",
      "text/plain": [
       "<Figure size 720x288 with 1 Axes>"
      ]
     },
     "metadata": {
      "needs_background": "light"
     },
     "output_type": "display_data"
    }
   ],
   "source": [
    "# plot CNR curves\n",
    "plot_cnr(obs_cnr_stats, cfg_cnr_stats, cfg_cnr_stats_std, ER_p_null_GE, figsize=(10,4), \n",
    "         er_name=\"ER (generalized)\", fname=\"full/full_cnr_CGE\")"
   ]
  }
 ],
 "metadata": {
  "kernelspec": {
   "display_name": "playground",
   "language": "python",
   "name": "myenv"
  },
  "language_info": {
   "codemirror_mode": {
    "name": "ipython",
    "version": 3
   },
   "file_extension": ".py",
   "mimetype": "text/x-python",
   "name": "python",
   "nbconvert_exporter": "python",
   "pygments_lexer": "ipython3",
   "version": "3.7.1"
  }
 },
 "nbformat": 4,
 "nbformat_minor": 4
}
