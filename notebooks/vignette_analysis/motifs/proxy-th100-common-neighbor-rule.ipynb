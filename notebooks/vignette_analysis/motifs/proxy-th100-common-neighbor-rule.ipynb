{
 "cells": [
  {
   "cell_type": "markdown",
   "metadata": {},
   "source": [
    "# Common Neighbor Rule in PyC Subgraph (Th=100)"
   ]
  },
  {
   "cell_type": "code",
   "execution_count": 1,
   "metadata": {},
   "outputs": [],
   "source": [
    "import os\n",
    "import random\n",
    "from time import time\n",
    "import pandas as pd\n",
    "import numpy as np\n",
    "import networkx as nx\n",
    "\n",
    "from utils.utils import *\n",
    "from utils.proximity import *\n",
    "from utils.graph_creation import *\n",
    "from utils.visualization import *\n",
    "from utils.common_neighbor_rule import *"
   ]
  },
  {
   "cell_type": "markdown",
   "metadata": {},
   "source": [
    "### 1. Create PyC Subgraph and Load Proximity Model"
   ]
  },
  {
   "cell_type": "code",
   "execution_count": 2,
   "metadata": {},
   "outputs": [],
   "source": [
    "pyc_synapses = pd.read_csv('data/synapses.csv')\n",
    "pyc_soma = pd.read_csv('data/soma.csv')"
   ]
  },
  {
   "cell_type": "code",
   "execution_count": 3,
   "metadata": {},
   "outputs": [],
   "source": [
    "# create the simple directed graph (no self-loops, no multi-edges)\n",
    "# treat multiple synapses as one connection\n",
    "pyc_subgraph = synapses_to_connections(pyc_synapses[['pre','post']])\n",
    "# remove self-loops\n",
    "g_actual = remove_autapses(edges_to_graph(pyc_subgraph))\n",
    "g_actual.add_nodes_from(pyc_soma[\"segment_id\"])"
   ]
  },
  {
   "cell_type": "code",
   "execution_count": 4,
   "metadata": {},
   "outputs": [],
   "source": [
    "locs = {n:string2array(np.array(pyc_soma[pyc_soma[\"segment_id\"] == n][\"loc\"])[0]) for n in g_actual.nodes()}\n",
    "axls = {n:np.array(pyc_soma[pyc_soma[\"segment_id\"] == n][\"axon_len\"])[0] for n in g_actual.nodes()}\n",
    "nx.set_node_attributes(g_actual, locs, \"loc\")\n",
    "nx.set_node_attributes(g_actual, axls, \"axl\")"
   ]
  },
  {
   "cell_type": "code",
   "execution_count": 5,
   "metadata": {},
   "outputs": [
    {
     "name": "stdout",
     "output_type": "stream",
     "text": [
      "Name: \n",
      "Type: DiGraph\n",
      "Number of nodes: 111\n",
      "Number of edges: 659\n",
      "Average in degree:   5.9369\n",
      "Average out degree:   5.9369\n"
     ]
    }
   ],
   "source": [
    "g_th100 = get_thresholded_graph(g_actual, axls, 100)\n",
    "print(nx.info(g_th100))"
   ]
  },
  {
   "cell_type": "code",
   "execution_count": 6,
   "metadata": {},
   "outputs": [],
   "source": [
    "# load precomputed proximity data and plot\n",
    "prox_th100 = pd.read_csv('saved/proximity_th100_avg10um.csv')"
   ]
  },
  {
   "cell_type": "markdown",
   "metadata": {},
   "source": [
    "### 2. Compare 2-Cell Motif Statistics (OBS vs ER vs PM)"
   ]
  },
  {
   "cell_type": "code",
   "execution_count": 7,
   "metadata": {},
   "outputs": [
    {
     "name": "stdout",
     "output_type": "stream",
     "text": [
      "CPU times: user 268 ms, sys: 8 ms, total: 276 ms\n",
      "Wall time: 271 ms\n"
     ]
    }
   ],
   "source": [
    "%%time\n",
    "# calculate common neighbor stats in the observation\n",
    "obs_cnr_stats = get_cnr_stats(g_th100)"
   ]
  },
  {
   "cell_type": "markdown",
   "metadata": {},
   "source": [
    "- \"undir_pair\" - number of pairs with [bin] common neighbor\n",
    "- \"dir_spair\" - number of pairs with [bin] common successor (strict, not a predecessor to any)\n",
    "- \"dir_ppair\" - number of pairs with [bin] common predecessor (strict, not a successor to any)\n",
    "- \"undir_conn\" - number of connected pairs with [bin] common neighbor\n",
    "- \"dir_sconn\" - number of connected pairs with [bin] common successor (strict, not a predecessor to any)\n",
    "- \"dir_pconn\" - number of connected pairs with [bin] common predecessor (strict, not a successor to any)\n",
    "- \"dir_uni_sconn\" - number of unidirectionally connected pairs with [bin] common successor (strict, not a predecessor to any)\n",
    "- \"dir_uni_pconn\" - number of unidirectionally connected pairs with [bin] common predecessor (strict, not a successor to any)\n",
    "- \"dir_bi_sconn\" - number of bidirectionally connected pairs with [bin] common successor (strict, not a predecessor to any)\n",
    "- \"dir_bi_pconn\" - number of bidirectionally connected pairs with [bin] common predecessor (strict, not a successor to any)\n",
    "- \"undir_perc\" - percentage of pairs with [bin] common neighbor to be connected\n",
    "- \"dir_sperc\" - percentage of pairs with [bin] strict common successor to be connected\n",
    "- \"dir_pperc\" - percentage of pairs with [bin] strict common predcessor to be connected"
   ]
  },
  {
   "cell_type": "code",
   "execution_count": 8,
   "metadata": {},
   "outputs": [
    {
     "data": {
      "text/html": [
       "<div>\n",
       "<style scoped>\n",
       "    .dataframe tbody tr th:only-of-type {\n",
       "        vertical-align: middle;\n",
       "    }\n",
       "\n",
       "    .dataframe tbody tr th {\n",
       "        vertical-align: top;\n",
       "    }\n",
       "\n",
       "    .dataframe thead th {\n",
       "        text-align: right;\n",
       "    }\n",
       "</style>\n",
       "<table border=\"1\" class=\"dataframe\">\n",
       "  <thead>\n",
       "    <tr style=\"text-align: right;\">\n",
       "      <th></th>\n",
       "      <th>undir_pair</th>\n",
       "      <th>dir_spair</th>\n",
       "      <th>dir_ppair</th>\n",
       "      <th>undir_conn</th>\n",
       "      <th>dir_sconn</th>\n",
       "      <th>dir_pconn</th>\n",
       "      <th>dir_uni_sconn</th>\n",
       "      <th>dir_uni_pconn</th>\n",
       "      <th>dir_bi_sconn</th>\n",
       "      <th>dir_bi_pconn</th>\n",
       "      <th>undir_perc</th>\n",
       "      <th>dir_sperc</th>\n",
       "      <th>dir_pperc</th>\n",
       "    </tr>\n",
       "  </thead>\n",
       "  <tbody>\n",
       "    <tr>\n",
       "      <th>0</th>\n",
       "      <td>2027.0</td>\n",
       "      <td>4676.0</td>\n",
       "      <td>3927.0</td>\n",
       "      <td>101.0</td>\n",
       "      <td>400.0</td>\n",
       "      <td>351.0</td>\n",
       "      <td>378.0</td>\n",
       "      <td>334.0</td>\n",
       "      <td>22.0</td>\n",
       "      <td>17.0</td>\n",
       "      <td>0.049827</td>\n",
       "      <td>0.085543</td>\n",
       "      <td>0.089381</td>\n",
       "    </tr>\n",
       "    <tr>\n",
       "      <th>1</th>\n",
       "      <td>1741.0</td>\n",
       "      <td>1031.0</td>\n",
       "      <td>1593.0</td>\n",
       "      <td>164.0</td>\n",
       "      <td>140.0</td>\n",
       "      <td>197.0</td>\n",
       "      <td>134.0</td>\n",
       "      <td>188.0</td>\n",
       "      <td>6.0</td>\n",
       "      <td>9.0</td>\n",
       "      <td>0.094199</td>\n",
       "      <td>0.135790</td>\n",
       "      <td>0.123666</td>\n",
       "    </tr>\n",
       "    <tr>\n",
       "      <th>2</th>\n",
       "      <td>1106.0</td>\n",
       "      <td>271.0</td>\n",
       "      <td>460.0</td>\n",
       "      <td>135.0</td>\n",
       "      <td>52.0</td>\n",
       "      <td>61.0</td>\n",
       "      <td>51.0</td>\n",
       "      <td>59.0</td>\n",
       "      <td>1.0</td>\n",
       "      <td>2.0</td>\n",
       "      <td>0.122061</td>\n",
       "      <td>0.191882</td>\n",
       "      <td>0.132609</td>\n",
       "    </tr>\n",
       "    <tr>\n",
       "      <th>3</th>\n",
       "      <td>637.0</td>\n",
       "      <td>85.0</td>\n",
       "      <td>106.0</td>\n",
       "      <td>102.0</td>\n",
       "      <td>20.0</td>\n",
       "      <td>19.0</td>\n",
       "      <td>20.0</td>\n",
       "      <td>18.0</td>\n",
       "      <td>0.0</td>\n",
       "      <td>1.0</td>\n",
       "      <td>0.160126</td>\n",
       "      <td>0.235294</td>\n",
       "      <td>0.179245</td>\n",
       "    </tr>\n",
       "    <tr>\n",
       "      <th>4</th>\n",
       "      <td>314.0</td>\n",
       "      <td>22.0</td>\n",
       "      <td>17.0</td>\n",
       "      <td>53.0</td>\n",
       "      <td>10.0</td>\n",
       "      <td>2.0</td>\n",
       "      <td>10.0</td>\n",
       "      <td>2.0</td>\n",
       "      <td>0.0</td>\n",
       "      <td>0.0</td>\n",
       "      <td>0.168790</td>\n",
       "      <td>0.454545</td>\n",
       "      <td>0.117647</td>\n",
       "    </tr>\n",
       "    <tr>\n",
       "      <th>5</th>\n",
       "      <td>145.0</td>\n",
       "      <td>14.0</td>\n",
       "      <td>2.0</td>\n",
       "      <td>31.0</td>\n",
       "      <td>5.0</td>\n",
       "      <td>0.0</td>\n",
       "      <td>5.0</td>\n",
       "      <td>0.0</td>\n",
       "      <td>0.0</td>\n",
       "      <td>0.0</td>\n",
       "      <td>0.213793</td>\n",
       "      <td>0.357143</td>\n",
       "      <td>0.000000</td>\n",
       "    </tr>\n",
       "    <tr>\n",
       "      <th>6</th>\n",
       "      <td>76.0</td>\n",
       "      <td>5.0</td>\n",
       "      <td>0.0</td>\n",
       "      <td>17.0</td>\n",
       "      <td>3.0</td>\n",
       "      <td>0.0</td>\n",
       "      <td>3.0</td>\n",
       "      <td>0.0</td>\n",
       "      <td>0.0</td>\n",
       "      <td>0.0</td>\n",
       "      <td>0.223684</td>\n",
       "      <td>0.600000</td>\n",
       "      <td>0.000000</td>\n",
       "    </tr>\n",
       "    <tr>\n",
       "      <th>7</th>\n",
       "      <td>27.0</td>\n",
       "      <td>0.0</td>\n",
       "      <td>0.0</td>\n",
       "      <td>11.0</td>\n",
       "      <td>0.0</td>\n",
       "      <td>0.0</td>\n",
       "      <td>0.0</td>\n",
       "      <td>0.0</td>\n",
       "      <td>0.0</td>\n",
       "      <td>0.0</td>\n",
       "      <td>0.407407</td>\n",
       "      <td>0.000000</td>\n",
       "      <td>0.000000</td>\n",
       "    </tr>\n",
       "    <tr>\n",
       "      <th>8</th>\n",
       "      <td>19.0</td>\n",
       "      <td>0.0</td>\n",
       "      <td>0.0</td>\n",
       "      <td>10.0</td>\n",
       "      <td>0.0</td>\n",
       "      <td>0.0</td>\n",
       "      <td>0.0</td>\n",
       "      <td>0.0</td>\n",
       "      <td>0.0</td>\n",
       "      <td>0.0</td>\n",
       "      <td>0.526316</td>\n",
       "      <td>0.000000</td>\n",
       "      <td>0.000000</td>\n",
       "    </tr>\n",
       "    <tr>\n",
       "      <th>9</th>\n",
       "      <td>13.0</td>\n",
       "      <td>1.0</td>\n",
       "      <td>0.0</td>\n",
       "      <td>6.0</td>\n",
       "      <td>0.0</td>\n",
       "      <td>0.0</td>\n",
       "      <td>0.0</td>\n",
       "      <td>0.0</td>\n",
       "      <td>0.0</td>\n",
       "      <td>0.0</td>\n",
       "      <td>0.461538</td>\n",
       "      <td>0.000000</td>\n",
       "      <td>0.000000</td>\n",
       "    </tr>\n",
       "  </tbody>\n",
       "</table>\n",
       "</div>"
      ],
      "text/plain": [
       "   undir_pair  dir_spair  dir_ppair  undir_conn  dir_sconn  dir_pconn  \\\n",
       "0      2027.0     4676.0     3927.0       101.0      400.0      351.0   \n",
       "1      1741.0     1031.0     1593.0       164.0      140.0      197.0   \n",
       "2      1106.0      271.0      460.0       135.0       52.0       61.0   \n",
       "3       637.0       85.0      106.0       102.0       20.0       19.0   \n",
       "4       314.0       22.0       17.0        53.0       10.0        2.0   \n",
       "5       145.0       14.0        2.0        31.0        5.0        0.0   \n",
       "6        76.0        5.0        0.0        17.0        3.0        0.0   \n",
       "7        27.0        0.0        0.0        11.0        0.0        0.0   \n",
       "8        19.0        0.0        0.0        10.0        0.0        0.0   \n",
       "9        13.0        1.0        0.0         6.0        0.0        0.0   \n",
       "\n",
       "   dir_uni_sconn  dir_uni_pconn  dir_bi_sconn  dir_bi_pconn  undir_perc  \\\n",
       "0          378.0          334.0          22.0          17.0    0.049827   \n",
       "1          134.0          188.0           6.0           9.0    0.094199   \n",
       "2           51.0           59.0           1.0           2.0    0.122061   \n",
       "3           20.0           18.0           0.0           1.0    0.160126   \n",
       "4           10.0            2.0           0.0           0.0    0.168790   \n",
       "5            5.0            0.0           0.0           0.0    0.213793   \n",
       "6            3.0            0.0           0.0           0.0    0.223684   \n",
       "7            0.0            0.0           0.0           0.0    0.407407   \n",
       "8            0.0            0.0           0.0           0.0    0.526316   \n",
       "9            0.0            0.0           0.0           0.0    0.461538   \n",
       "\n",
       "   dir_sperc  dir_pperc  \n",
       "0   0.085543   0.089381  \n",
       "1   0.135790   0.123666  \n",
       "2   0.191882   0.132609  \n",
       "3   0.235294   0.179245  \n",
       "4   0.454545   0.117647  \n",
       "5   0.357143   0.000000  \n",
       "6   0.600000   0.000000  \n",
       "7   0.000000   0.000000  \n",
       "8   0.000000   0.000000  \n",
       "9   0.000000   0.000000  "
      ]
     },
     "execution_count": 8,
     "metadata": {},
     "output_type": "execute_result"
    }
   ],
   "source": [
    "obs_cnr_stats"
   ]
  },
  {
   "cell_type": "code",
   "execution_count": 10,
   "metadata": {},
   "outputs": [
    {
     "data": {
      "application/vnd.jupyter.widget-view+json": {
       "model_id": "f0000cf374364cea9fadfce7704286cc",
       "version_major": 2,
       "version_minor": 0
      },
      "text/plain": [
       "HBox(children=(FloatProgress(value=0.0), HTML(value='')))"
      ]
     },
     "metadata": {},
     "output_type": "display_data"
    },
    {
     "name": "stdout",
     "output_type": "stream",
     "text": [
      "\n",
      "CPU times: user 18.7 s, sys: 40 ms, total: 18.8 s\n",
      "Wall time: 19.3 s\n"
     ]
    }
   ],
   "source": [
    "%%time\n",
    "# sample graphs from proximity model and compute CNR stats\n",
    "s=100 # total 100 samples (100 continous samples)\n",
    "pm_cnr_samples = proximity_sample_cnr(g_th100, samples=s, \n",
    "                                      ps=prox_th100[\"p_connect\"], \n",
    "                                      edge_order=prox_th100[\"edge_order\"])\n",
    "pm_cnr_stats, pm_cnr_stats_std = cnr_mean_std(pm_cnr_samples)"
   ]
  },
  {
   "cell_type": "code",
   "execution_count": 13,
   "metadata": {},
   "outputs": [],
   "source": [
    "# save sampled CNR stats from proximity model as intermediate data\n",
    "pm_cnr_stats.to_csv(\"saved/th100_cnr_pm100.csv\", index=False)\n",
    "pm_cnr_stats_std.to_csv(\"saved/th100_cnrstd_pm100.csv\", index=False)"
   ]
  },
  {
   "cell_type": "code",
   "execution_count": 14,
   "metadata": {},
   "outputs": [],
   "source": [
    "# load precomputed CNR stats counts from CFG model\n",
    "pm_cnr_stats = pd.read_csv(\"saved/th100_cnr_pm100.csv\")\n",
    "pm_cnr_stats_std = pd.read_csv(\"saved/th100_cnrstd_pm100.csv\")"
   ]
  },
  {
   "cell_type": "code",
   "execution_count": 15,
   "metadata": {},
   "outputs": [
    {
     "data": {
      "text/html": [
       "<div>\n",
       "<style scoped>\n",
       "    .dataframe tbody tr th:only-of-type {\n",
       "        vertical-align: middle;\n",
       "    }\n",
       "\n",
       "    .dataframe tbody tr th {\n",
       "        vertical-align: top;\n",
       "    }\n",
       "\n",
       "    .dataframe thead th {\n",
       "        text-align: right;\n",
       "    }\n",
       "</style>\n",
       "<table border=\"1\" class=\"dataframe\">\n",
       "  <thead>\n",
       "    <tr style=\"text-align: right;\">\n",
       "      <th></th>\n",
       "      <th>undir_pair</th>\n",
       "      <th>dir_spair</th>\n",
       "      <th>dir_ppair</th>\n",
       "      <th>undir_conn</th>\n",
       "      <th>dir_sconn</th>\n",
       "      <th>dir_pconn</th>\n",
       "      <th>dir_uni_sconn</th>\n",
       "      <th>dir_uni_pconn</th>\n",
       "      <th>dir_bi_sconn</th>\n",
       "      <th>dir_bi_pconn</th>\n",
       "      <th>undir_perc</th>\n",
       "      <th>dir_sperc</th>\n",
       "      <th>dir_pperc</th>\n",
       "    </tr>\n",
       "  </thead>\n",
       "  <tbody>\n",
       "    <tr>\n",
       "      <th>0</th>\n",
       "      <td>1849.92</td>\n",
       "      <td>4512.30</td>\n",
       "      <td>4517.52</td>\n",
       "      <td>178.76</td>\n",
       "      <td>464.47</td>\n",
       "      <td>464.37</td>\n",
       "      <td>449.38</td>\n",
       "      <td>448.97</td>\n",
       "      <td>15.09</td>\n",
       "      <td>15.40</td>\n",
       "      <td>0.096859</td>\n",
       "      <td>0.103024</td>\n",
       "      <td>0.102872</td>\n",
       "    </tr>\n",
       "    <tr>\n",
       "      <th>1</th>\n",
       "      <td>2162.38</td>\n",
       "      <td>1355.90</td>\n",
       "      <td>1351.46</td>\n",
       "      <td>225.84</td>\n",
       "      <td>148.67</td>\n",
       "      <td>148.57</td>\n",
       "      <td>143.70</td>\n",
       "      <td>143.98</td>\n",
       "      <td>4.97</td>\n",
       "      <td>4.59</td>\n",
       "      <td>0.104486</td>\n",
       "      <td>0.109491</td>\n",
       "      <td>0.109753</td>\n",
       "    </tr>\n",
       "    <tr>\n",
       "      <th>2</th>\n",
       "      <td>1317.83</td>\n",
       "      <td>212.15</td>\n",
       "      <td>211.15</td>\n",
       "      <td>145.49</td>\n",
       "      <td>24.65</td>\n",
       "      <td>24.96</td>\n",
       "      <td>23.85</td>\n",
       "      <td>24.12</td>\n",
       "      <td>0.80</td>\n",
       "      <td>0.84</td>\n",
       "      <td>0.110194</td>\n",
       "      <td>0.115653</td>\n",
       "      <td>0.116973</td>\n",
       "    </tr>\n",
       "    <tr>\n",
       "      <th>3</th>\n",
       "      <td>544.40</td>\n",
       "      <td>22.90</td>\n",
       "      <td>22.84</td>\n",
       "      <td>63.02</td>\n",
       "      <td>2.81</td>\n",
       "      <td>2.70</td>\n",
       "      <td>2.72</td>\n",
       "      <td>2.59</td>\n",
       "      <td>0.09</td>\n",
       "      <td>0.11</td>\n",
       "      <td>0.115353</td>\n",
       "      <td>0.120557</td>\n",
       "      <td>0.117970</td>\n",
       "    </tr>\n",
       "    <tr>\n",
       "      <th>4</th>\n",
       "      <td>173.75</td>\n",
       "      <td>1.68</td>\n",
       "      <td>1.83</td>\n",
       "      <td>20.39</td>\n",
       "      <td>0.22</td>\n",
       "      <td>0.20</td>\n",
       "      <td>0.22</td>\n",
       "      <td>0.19</td>\n",
       "      <td>0.00</td>\n",
       "      <td>0.01</td>\n",
       "      <td>0.115432</td>\n",
       "      <td>0.086500</td>\n",
       "      <td>0.088500</td>\n",
       "    </tr>\n",
       "    <tr>\n",
       "      <th>5</th>\n",
       "      <td>44.59</td>\n",
       "      <td>0.07</td>\n",
       "      <td>0.20</td>\n",
       "      <td>5.59</td>\n",
       "      <td>0.00</td>\n",
       "      <td>0.02</td>\n",
       "      <td>0.00</td>\n",
       "      <td>0.02</td>\n",
       "      <td>0.00</td>\n",
       "      <td>0.00</td>\n",
       "      <td>0.122740</td>\n",
       "      <td>0.000000</td>\n",
       "      <td>0.020000</td>\n",
       "    </tr>\n",
       "    <tr>\n",
       "      <th>6</th>\n",
       "      <td>10.02</td>\n",
       "      <td>0.00</td>\n",
       "      <td>0.00</td>\n",
       "      <td>1.30</td>\n",
       "      <td>0.00</td>\n",
       "      <td>0.00</td>\n",
       "      <td>0.00</td>\n",
       "      <td>0.00</td>\n",
       "      <td>0.00</td>\n",
       "      <td>0.00</td>\n",
       "      <td>0.116907</td>\n",
       "      <td>0.000000</td>\n",
       "      <td>0.000000</td>\n",
       "    </tr>\n",
       "    <tr>\n",
       "      <th>7</th>\n",
       "      <td>1.75</td>\n",
       "      <td>0.00</td>\n",
       "      <td>0.00</td>\n",
       "      <td>0.39</td>\n",
       "      <td>0.00</td>\n",
       "      <td>0.00</td>\n",
       "      <td>0.00</td>\n",
       "      <td>0.00</td>\n",
       "      <td>0.00</td>\n",
       "      <td>0.00</td>\n",
       "      <td>0.152690</td>\n",
       "      <td>0.000000</td>\n",
       "      <td>0.000000</td>\n",
       "    </tr>\n",
       "    <tr>\n",
       "      <th>8</th>\n",
       "      <td>0.28</td>\n",
       "      <td>0.00</td>\n",
       "      <td>0.00</td>\n",
       "      <td>0.02</td>\n",
       "      <td>0.00</td>\n",
       "      <td>0.00</td>\n",
       "      <td>0.00</td>\n",
       "      <td>0.00</td>\n",
       "      <td>0.00</td>\n",
       "      <td>0.00</td>\n",
       "      <td>0.015000</td>\n",
       "      <td>0.000000</td>\n",
       "      <td>0.000000</td>\n",
       "    </tr>\n",
       "    <tr>\n",
       "      <th>9</th>\n",
       "      <td>0.08</td>\n",
       "      <td>0.00</td>\n",
       "      <td>0.00</td>\n",
       "      <td>0.02</td>\n",
       "      <td>0.00</td>\n",
       "      <td>0.00</td>\n",
       "      <td>0.00</td>\n",
       "      <td>0.00</td>\n",
       "      <td>0.00</td>\n",
       "      <td>0.00</td>\n",
       "      <td>0.020000</td>\n",
       "      <td>0.000000</td>\n",
       "      <td>0.000000</td>\n",
       "    </tr>\n",
       "  </tbody>\n",
       "</table>\n",
       "</div>"
      ],
      "text/plain": [
       "   undir_pair  dir_spair  dir_ppair  undir_conn  dir_sconn  dir_pconn  \\\n",
       "0     1849.92    4512.30    4517.52      178.76     464.47     464.37   \n",
       "1     2162.38    1355.90    1351.46      225.84     148.67     148.57   \n",
       "2     1317.83     212.15     211.15      145.49      24.65      24.96   \n",
       "3      544.40      22.90      22.84       63.02       2.81       2.70   \n",
       "4      173.75       1.68       1.83       20.39       0.22       0.20   \n",
       "5       44.59       0.07       0.20        5.59       0.00       0.02   \n",
       "6       10.02       0.00       0.00        1.30       0.00       0.00   \n",
       "7        1.75       0.00       0.00        0.39       0.00       0.00   \n",
       "8        0.28       0.00       0.00        0.02       0.00       0.00   \n",
       "9        0.08       0.00       0.00        0.02       0.00       0.00   \n",
       "\n",
       "   dir_uni_sconn  dir_uni_pconn  dir_bi_sconn  dir_bi_pconn  undir_perc  \\\n",
       "0         449.38         448.97         15.09         15.40    0.096859   \n",
       "1         143.70         143.98          4.97          4.59    0.104486   \n",
       "2          23.85          24.12          0.80          0.84    0.110194   \n",
       "3           2.72           2.59          0.09          0.11    0.115353   \n",
       "4           0.22           0.19          0.00          0.01    0.115432   \n",
       "5           0.00           0.02          0.00          0.00    0.122740   \n",
       "6           0.00           0.00          0.00          0.00    0.116907   \n",
       "7           0.00           0.00          0.00          0.00    0.152690   \n",
       "8           0.00           0.00          0.00          0.00    0.015000   \n",
       "9           0.00           0.00          0.00          0.00    0.020000   \n",
       "\n",
       "   dir_sperc  dir_pperc  \n",
       "0   0.103024   0.102872  \n",
       "1   0.109491   0.109753  \n",
       "2   0.115653   0.116973  \n",
       "3   0.120557   0.117970  \n",
       "4   0.086500   0.088500  \n",
       "5   0.000000   0.020000  \n",
       "6   0.000000   0.000000  \n",
       "7   0.000000   0.000000  \n",
       "8   0.000000   0.000000  \n",
       "9   0.000000   0.000000  "
      ]
     },
     "execution_count": 15,
     "metadata": {},
     "output_type": "execute_result"
    }
   ],
   "source": [
    "pm_cnr_stats"
   ]
  },
  {
   "cell_type": "code",
   "execution_count": 17,
   "metadata": {},
   "outputs": [
    {
     "data": {
      "image/png": "[encoded data removed]",
      "text/plain": [
       "<Figure size 720x288 with 1 Axes>"
      ]
     },
     "metadata": {
      "needs_background": "light"
     },
     "output_type": "display_data"
    }
   ],
   "source": [
    "# plot CNR curves\n",
    "E, N = len(g_th100.edges), len(g_th100.nodes)\n",
    "ER_p_null = (1 - E / (N*(N-1)))**2\n",
    "\n",
    "plot_cnr(obs_cnr_stats, pm_cnr_stats, pm_cnr_stats_std, ER_p_null, figsize=(10,4), \n",
    "         cfg_name=\"Proximity Model\", fname=\"th100/proximity_th100_cnr\")"
   ]
  },
  {
   "cell_type": "code",
   "execution_count": 19,
   "metadata": {},
   "outputs": [
    {
     "data": {
      "text/plain": [
       "(0.8793027463711647, 6.106235706259406e-05)"
      ]
     },
     "execution_count": 19,
     "metadata": {},
     "output_type": "execute_result"
    }
   ],
   "source": [
    "# Pearson r^2 and p-value for OBS\n",
    "pearson_r2(np.arange(10), obs_cnr_stats[\"undir_perc\"])"
   ]
  },
  {
   "cell_type": "code",
   "execution_count": 20,
   "metadata": {},
   "outputs": [
    {
     "data": {
      "text/plain": [
       "(0.2045501930071698, 0.18939789342558672)"
      ]
     },
     "execution_count": 20,
     "metadata": {},
     "output_type": "execute_result"
    }
   ],
   "source": [
    "# Pearson r^2 and p-value for CFG\n",
    "pearson_r2(np.arange(10), pm_cnr_stats[\"undir_perc\"])"
   ]
  },
  {
   "cell_type": "markdown",
   "metadata": {},
   "source": [
    "### 3. Common Neighbor Rule (OBS vs gER vs PM)"
   ]
  },
  {
   "cell_type": "code",
   "execution_count": 21,
   "metadata": {},
   "outputs": [
    {
     "data": {
      "image/png": "[encoded data removed]",
      "text/plain": [
       "<Figure size 432x288 with 1 Axes>"
      ]
     },
     "metadata": {
      "needs_background": "light"
     },
     "output_type": "display_data"
    }
   ],
   "source": [
    "# plot CNR curves\n",
    "_, two_pr_GE = compute_three_neuron_motif_probabilities_GE(g_th100)\n",
    "ER_p_null_GE = 1 - 2*two_pr_GE[\"pr_uni\"] - two_pr_GE[\"pr_bi\"]\n",
    "\n",
    "plot_cnr(obs_cnr_stats, pm_cnr_stats, pm_cnr_stats_std, ER_p_null_GE, \n",
    "         figsize=(6,4), fontsizes=(16, 16, 16, 14), cfg_name=\"Proximity Model\",  \n",
    "         fname=\"th100/proximity_th100_cnr_GE\")"
   ]
  },
  {
   "cell_type": "code",
   "execution_count": 22,
   "metadata": {},
   "outputs": [
    {
     "data": {
      "text/plain": [
       "(0.8793027463711647, 6.106235706259406e-05)"
      ]
     },
     "execution_count": 22,
     "metadata": {},
     "output_type": "execute_result"
    }
   ],
   "source": [
    "# Pearson r^2 and p-value for OBS\n",
    "pearson_r2(np.arange(10), obs_cnr_stats[\"undir_perc\"])"
   ]
  },
  {
   "cell_type": "code",
   "execution_count": 23,
   "metadata": {},
   "outputs": [
    {
     "data": {
      "text/plain": [
       "(0.2045501930071698, 0.18939789342558672)"
      ]
     },
     "execution_count": 23,
     "metadata": {},
     "output_type": "execute_result"
    }
   ],
   "source": [
    "# Pearson r^2 and p-value for CFG\n",
    "pearson_r2(np.arange(10), pm_cnr_stats[\"undir_perc\"])"
   ]
  },
  {
   "cell_type": "code",
   "execution_count": null,
   "metadata": {},
   "outputs": [],
   "source": []
  }
 ],
 "metadata": {
  "kernelspec": {
   "display_name": "playground",
   "language": "python",
   "name": "myenv"
  },
  "language_info": {
   "codemirror_mode": {
    "name": "ipython",
    "version": 3
   },
   "file_extension": ".py",
   "mimetype": "text/x-python",
   "name": "python",
   "nbconvert_exporter": "python",
   "pygments_lexer": "ipython3",
   "version": "3.7.1"
  }
 },
 "nbformat": 4,
 "nbformat_minor": 4
}
