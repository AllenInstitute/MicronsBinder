{
 "cells": [
  {
   "cell_type": "markdown",
   "metadata": {},
   "source": [
    "<div style=\"background: #DFF0D8; border-radius: 3px; padding: 10px;\">\n",
    "</b> Importing the key modules and set parameters\n",
    "\n",
    "</div>"
   ]
  },
  {
   "cell_type": "code",
   "execution_count": 1,
   "metadata": {},
   "outputs": [],
   "source": [
    "from meshparty import trimesh_io, trimesh_vtk\n",
    "from caveclient import CAVEclient\n",
    "import numpy as np\n",
    "import pandas as pd\n",
    "import cloudvolume\n",
    "import itkwidgets\n",
    "\n",
    "\n",
    "#setting up the cave client, if you have not done this before checkout the notebook CAVEsetup.ipynb at \n",
    "#https://github.com/AllenInstitute/MicronsBinder/tree/master/notebooks/mm3_intro\n",
    "client = CAVEclient()\n",
    "#client.auth.get_new_token()\n",
    "#client.auth.save_token(token=\"Your token here\")\n",
    "\n",
    "\n",
    "dataset_name = 'minnie65_public_v117'\n",
    "client = CAVEclient(dataset_name)\n"
   ]
  },
  {
   "cell_type": "markdown",
   "metadata": {},
   "source": [
    "<div style=\"background: #DFF0D8; border-radius: 3px; padding: 10px;\">\n",
    "</b> Using the CAVEclient, we can query the synapse table for any neuron in the volume\n",
    "      </div>"
   ]
  },
  {
   "cell_type": "code",
   "execution_count": 2,
   "metadata": {},
   "outputs": [
    {
     "data": {
      "text/plain": [
       "['nucleus_detection_v0',\n",
       " 'synapses_pni_2',\n",
       " 'nucleus_neuron_svm',\n",
       " 'proofreading_status_public_release',\n",
       " 'func_unit_em_match_release',\n",
       " 'allen_soma_ei_class_model_v1',\n",
       " 'allen_visp_column_soma_coarse_types_v1']"
      ]
     },
     "execution_count": 2,
     "metadata": {},
     "output_type": "execute_result"
    }
   ],
   "source": [
    "client.materialize.get_tables()"
   ]
  },
  {
   "cell_type": "code",
   "execution_count": 3,
   "metadata": {},
   "outputs": [
    {
     "data": {
      "text/html": [
       "<div>\n",
       "<style scoped>\n",
       "    .dataframe tbody tr th:only-of-type {\n",
       "        vertical-align: middle;\n",
       "    }\n",
       "\n",
       "    .dataframe tbody tr th {\n",
       "        vertical-align: top;\n",
       "    }\n",
       "\n",
       "    .dataframe thead th {\n",
       "        text-align: right;\n",
       "    }\n",
       "</style>\n",
       "<table border=\"1\" class=\"dataframe\">\n",
       "  <thead>\n",
       "    <tr style=\"text-align: right;\">\n",
       "      <th></th>\n",
       "      <th>id</th>\n",
       "      <th>valid</th>\n",
       "      <th>pt_supervoxel_id</th>\n",
       "      <th>pt_root_id</th>\n",
       "      <th>valid_id</th>\n",
       "      <th>status_dendrite</th>\n",
       "      <th>status_axon</th>\n",
       "      <th>pt_position</th>\n",
       "    </tr>\n",
       "  </thead>\n",
       "  <tbody>\n",
       "    <tr>\n",
       "      <th>0</th>\n",
       "      <td>346</td>\n",
       "      <td>t</td>\n",
       "      <td>89660913577302088</td>\n",
       "      <td>864691136194248918</td>\n",
       "      <td>864691136194248918</td>\n",
       "      <td>extended</td>\n",
       "      <td>extended</td>\n",
       "      <td>[181147, 143788, 22167]</td>\n",
       "    </tr>\n",
       "    <tr>\n",
       "      <th>1</th>\n",
       "      <td>347</td>\n",
       "      <td>t</td>\n",
       "      <td>89941288908184714</td>\n",
       "      <td>864691135517422218</td>\n",
       "      <td>864691135517422218</td>\n",
       "      <td>extended</td>\n",
       "      <td>extended</td>\n",
       "      <td>[182993, 135610, 21130]</td>\n",
       "    </tr>\n",
       "    <tr>\n",
       "      <th>2</th>\n",
       "      <td>348</td>\n",
       "      <td>t</td>\n",
       "      <td>85369450370657325</td>\n",
       "      <td>864691135753932237</td>\n",
       "      <td>864691135753932237</td>\n",
       "      <td>extended</td>\n",
       "      <td>extended</td>\n",
       "      <td>[149711, 151738, 17565]</td>\n",
       "    </tr>\n",
       "    <tr>\n",
       "      <th>3</th>\n",
       "      <td>349</td>\n",
       "      <td>t</td>\n",
       "      <td>92129866602123648</td>\n",
       "      <td>864691135367058169</td>\n",
       "      <td>864691135367058169</td>\n",
       "      <td>extended</td>\n",
       "      <td>extended</td>\n",
       "      <td>[198949, 188854, 19772]</td>\n",
       "    </tr>\n",
       "    <tr>\n",
       "      <th>4</th>\n",
       "      <td>350</td>\n",
       "      <td>t</td>\n",
       "      <td>88815663879226337</td>\n",
       "      <td>864691135293126156</td>\n",
       "      <td>864691135293126156</td>\n",
       "      <td>extended</td>\n",
       "      <td>extended</td>\n",
       "      <td>[174921, 137614, 21123]</td>\n",
       "    </tr>\n",
       "  </tbody>\n",
       "</table>\n",
       "</div>"
      ],
      "text/plain": [
       "    id valid   pt_supervoxel_id          pt_root_id            valid_id  \\\n",
       "0  346     t  89660913577302088  864691136194248918  864691136194248918   \n",
       "1  347     t  89941288908184714  864691135517422218  864691135517422218   \n",
       "2  348     t  85369450370657325  864691135753932237  864691135753932237   \n",
       "3  349     t  92129866602123648  864691135367058169  864691135367058169   \n",
       "4  350     t  88815663879226337  864691135293126156  864691135293126156   \n",
       "\n",
       "  status_dendrite status_axon              pt_position  \n",
       "0        extended    extended  [181147, 143788, 22167]  \n",
       "1        extended    extended  [182993, 135610, 21130]  \n",
       "2        extended    extended  [149711, 151738, 17565]  \n",
       "3        extended    extended  [198949, 188854, 19772]  \n",
       "4        extended    extended  [174921, 137614, 21123]  "
      ]
     },
     "execution_count": 3,
     "metadata": {},
     "output_type": "execute_result"
    }
   ],
   "source": [
    "#selecting for only the proofread cells with extended axons  \n",
    "proofread=client.materialize.query_table('proofreading_status_public_release', \n",
    "                                      filter_equal_dict={'status_axon':'extended'})\n",
    "proofread.head()\n"
   ]
  },
  {
   "cell_type": "markdown",
   "metadata": {},
   "source": [
    "<div style=\"background: #DFF0D8; border-radius: 3px; padding: 10px;\">\n",
    "</b> We can go on to find the post_synaptic cell id (post_pt_root_id) with the most synapses. (Hint, we recommend focusing on the proofread cells)\n",
    "        </div>"
   ]
  },
  {
   "cell_type": "code",
   "execution_count": 4,
   "metadata": {
    "scrolled": true
   },
   "outputs": [
    {
     "name": "stdout",
     "output_type": "stream",
     "text": [
      "Cell ID: 864691135782544435, Number of synapses: 57\n"
     ]
    }
   ],
   "source": [
    "#synapse table with all the synapses onto the proofread cells\n",
    "syn_df = client.materialize.query_table('synapses_pni_2',\n",
    "                                        filter_in_dict={'pre_pt_root_id': proofread.pt_root_id.values})\n",
    "\n",
    "#subselecting only synapses onto proofread cells\n",
    "syn_df['syn_num']=syn_df.groupby('post_pt_root_id')['id'].transform(len)\n",
    "\n",
    "#which proofread cell id has the largest number of post-synaptic synapses\n",
    "most_syn = max(syn_df.syn_num) \n",
    "\n",
    "#since there may be multiple cells with the same maximum number, we will just take the first one\n",
    "cellid = syn_df[syn_df.syn_num==most_syn]['post_pt_root_id'].values[0] \n",
    "\n",
    "\n",
    "#segmentation ID for the proofread cell with the greatest number of synapses\n",
    "print('Cell ID: %d, Number of synapses: %d'%(cellid,most_syn))\n"
   ]
  },
  {
   "cell_type": "markdown",
   "metadata": {},
   "source": [
    "<div style=\"background: #DFF0D8; border-radius: 3px; padding: 10px;\">\n",
    "</b> Now we can move on to visualize this cell in 3D with some of it's biggest synapses\n",
    "        </div>"
   ]
  },
  {
   "cell_type": "code",
   "execution_count": 5,
   "metadata": {},
   "outputs": [],
   "source": [
    "seg_source = client.info.segmentation_source()\n",
    "\n",
    "#using the google cloud segmentation path\n",
    "cv = cloudvolume.CloudVolume(\"precomputed://gs://iarpa_microns/minnie/minnie65/seg\", use_https=True)\n",
    "\n",
    "#you can also try the aws segmentation path\n",
    "#cv = cloudvolume.CloudVolume(\"precomputed://s3://bossdb-open-data/microns/minnie/minnie65-flat-seg/\", use_https=True)\n",
    "\n",
    "mesh = cv.mesh.get(cellid,lod=3)[cellid]\n",
    "poly_data = trimesh_vtk.trimesh_to_vtk(mesh.vertices, mesh.faces, None)\n",
    "\n",
    "#setting up an itkwidgets viewer\n",
    "viewer=itkwidgets.view(geometries=[poly_data])\n",
    "\n"
   ]
  },
  {
   "cell_type": "code",
   "execution_count": 6,
   "metadata": {},
   "outputs": [
    {
     "data": {
      "application/vnd.jupyter.widget-view+json": {
       "model_id": "4e806c984cfb40e3a12f84e29873c8df",
       "version_major": 2,
       "version_minor": 0
      },
      "text/plain": [
       "Viewer(geometries=[{'vtkClass': 'vtkPolyData', 'points': {'vtkClass': 'vtkPoints', 'name': '_points', 'numberO…"
      ]
     },
     "metadata": {},
     "output_type": "display_data"
    }
   ],
   "source": [
    "viewer"
   ]
  },
  {
   "cell_type": "code",
   "execution_count": 7,
   "metadata": {},
   "outputs": [
    {
     "name": "stdout",
     "output_type": "stream",
     "text": [
      "          pre_pt_root_id   size\n",
      "7534  864691135918302748  73788\n",
      "7292  864691135540444146  72048\n",
      "4135  864691135531745266  67500\n",
      "4397  864691135544160498  66732\n",
      "2382  864691135532446450  66112\n",
      "7307  864691135700690068  65264\n",
      "3565  864691135417946193  64480\n",
      "4577  864691135767005373  64204\n",
      "8077  864691135423389454  63744\n",
      "810   864691135860490863  63344\n"
     ]
    }
   ],
   "source": [
    "post_synapse_df = client.materialize.synapse_query(post_ids = np.array([cellid]))\n",
    "biggest_synapses = post_synapse_df.sort_values(by=['size'],ascending=False).head(10)\n",
    "print(biggest_synapses[['pre_pt_root_id', 'size']])\n"
   ]
  },
  {
   "cell_type": "markdown",
   "metadata": {},
   "source": [
    "<div style=\"background: #DFF0D8; border-radius: 3px; padding: 10px;\">\n",
    "</b> Lastly we will visualize the cell and these 10 synapses, please note that you need to increase the size of the synapses using the slider in the widget tool\n",
    "        </div>"
   ]
  },
  {
   "cell_type": "code",
   "execution_count": 12,
   "metadata": {},
   "outputs": [],
   "source": [
    "#mm = trimesh_io.MeshMeta(disk_cache_path='test/test_files')\n",
    "#mesh = mm.mesh(filename ='/data/dynamic_brain_workshop/electron_microscopy/2021/meshes/%d.h5'%cellid)\n",
    "mesh_poly =trimesh_vtk.trimesh_to_vtk(mesh.vertices,mesh.faces,None)\n",
    "\n",
    "poly_data = trimesh_vtk.trimesh_to_vtk(mesh.vertices, mesh.faces, None)\n",
    "\n",
    "voxel_resolution = np.array([4,4,40])#setting the voxel resolution to convert to nm\n",
    "syn_pts = np.vstack(biggest_synapses['ctr_pt_position'].values) * voxel_resolution\n",
    "syn_sizes = biggest_synapses['size']\n",
    "syn_actors = trimesh_vtk.point_cloud_actor(syn_pts, size=syn_sizes.values)\n",
    "viewer2 =itkwidgets.view(geometries=[poly_data],\n",
    "                        point_sets = [syn_pts])\n",
    "\n"
   ]
  },
  {
   "cell_type": "code",
   "execution_count": 13,
   "metadata": {
    "scrolled": false
   },
   "outputs": [
    {
     "data": {
      "application/vnd.jupyter.widget-view+json": {
       "model_id": "213a35a36c224eba8784e5ff1bc614bc",
       "version_major": 2,
       "version_minor": 0
      },
      "text/plain": [
       "Viewer(geometries=[{'vtkClass': 'vtkPolyData', 'points': {'vtkClass': 'vtkPoints', 'name': '_points', 'numberO…"
      ]
     },
     "metadata": {},
     "output_type": "display_data"
    }
   ],
   "source": [
    "#when visualizing the synapses, they will initially appear very small, be sure to increase the size of the \n",
    "#synapses using the sliding bar under Point Set 0. You can also change the color using color map in the widget\n",
    "#You should be able to see a pyramidal neuron with 10 points indicating where it receives its 10 largest synapses\n",
    "viewer2"
   ]
  },
  {
   "cell_type": "code",
   "execution_count": null,
   "metadata": {},
   "outputs": [],
   "source": []
  }
 ],
 "metadata": {
  "kernelspec": {
   "display_name": "Python 3",
   "language": "python",
   "name": "python3"
  },
  "language_info": {
   "codemirror_mode": {
    "name": "ipython",
    "version": 3
   },
   "file_extension": ".py",
   "mimetype": "text/x-python",
   "name": "python",
   "nbconvert_exporter": "python",
   "pygments_lexer": "ipython3",
   "version": "3.7.0"
  }
 },
 "nbformat": 4,
 "nbformat_minor": 2
}
