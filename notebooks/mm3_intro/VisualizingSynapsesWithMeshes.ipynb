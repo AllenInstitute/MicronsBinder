{
 "cells": [
  {
   "cell_type": "markdown",
   "metadata": {},
   "source": [
    "<div style=\"background: #DFF0D8; border-radius: 3px; padding: 10px;\">\n",
    "</b> Importing the key modules and set parameters\n",
    "\n",
    "</div>"
   ]
  },
  {
   "cell_type": "code",
   "execution_count": null,
   "metadata": {},
   "outputs": [],
   "source": [
    "from meshparty import trimesh_io, trimesh_vtk\n",
    "from caveclient import CAVEclient\n",
    "import numpy as np\n",
    "import pandas as pd\n",
    "import cloudvolume\n",
    "import itkwidgets\n",
    "\n",
    "\n",
    "#setting up the cave client, if you have not done this before checkout the notebook CAVEsetup.ipynb at \n",
    "#https://github.com/AllenInstitute/MicronsBinder/tree/master/notebooks/mm3_intro\n",
    "client = CAVEclient()\n",
    "#client.auth.get_new_token()\n",
    "#client.auth.save_token(token=\"Your token here\")\n",
    "\n",
    "\n",
    "dataset_name = 'minnie65_public_v117'\n",
    "client = CAVEclient(dataset_name)\n"
   ]
  },
  {
   "cell_type": "markdown",
   "metadata": {},
   "source": [
    "<div style=\"background: #DFF0D8; border-radius: 3px; padding: 10px;\">\n",
    "</b> Using the CAVEclient, we can query the synapse table for any neuron in the volume\n",
    "      </div>"
   ]
  },
  {
   "cell_type": "code",
   "execution_count": null,
   "metadata": {},
   "outputs": [],
   "source": [
    "client.materialize.get_tables()"
   ]
  },
  {
   "cell_type": "code",
   "execution_count": null,
   "metadata": {},
   "outputs": [],
   "source": [
    "#selecting for only the proofread cells with extended axons  \n",
    "proofread=client.materialize.query_table('proofreading_status_public_release', \n",
    "                                      filter_equal_dict={'status_axon':'extended'})\n",
    "proofread.head()\n"
   ]
  },
  {
   "cell_type": "markdown",
   "metadata": {},
   "source": [
    "<div style=\"background: #DFF0D8; border-radius: 3px; padding: 10px;\">\n",
    "</b> We can go on to find the post_synaptic cell id (post_pt_root_id) with the most synapses. (Hint, we recommend focusing on the proofread cells)\n",
    "        </div>"
   ]
  },
  {
   "cell_type": "code",
   "execution_count": null,
   "metadata": {
    "scrolled": true
   },
   "outputs": [],
   "source": [
    "#synapse table with all the synapses onto the proofread cells\n",
    "syn_df = client.materialize.query_table('synapses_pni_2',\n",
    "                                        filter_in_dict={'pre_pt_root_id': proofread.pt_root_id.values})\n",
    "\n",
    "#subselecting only synapses onto proofread cells\n",
    "syn_df['syn_num']=syn_df.groupby('post_pt_root_id')['id'].transform(len)\n",
    "\n",
    "#which proofread cell id has the largest number of post-synaptic synapses\n",
    "most_syn = max(syn_df.syn_num) \n",
    "\n",
    "#since there may be multiple cells with the same maximum number, we will just take the first one\n",
    "cellid = syn_df[syn_df.syn_num==most_syn]['post_pt_root_id'].values[0] \n",
    "\n",
    "\n",
    "#segmentation ID for the proofread cell with the greatest number of synapses\n",
    "print('Cell ID: %d, Number of synapses: %d'%(cellid,most_syn))\n"
   ]
  },
  {
   "cell_type": "markdown",
   "metadata": {},
   "source": [
    "<div style=\"background: #DFF0D8; border-radius: 3px; padding: 10px;\">\n",
    "</b> Now we can move on to visualize this cell in 3D with some of it's biggest synapses\n",
    "        </div>"
   ]
  },
  {
   "cell_type": "code",
   "execution_count": null,
   "metadata": {},
   "outputs": [],
   "source": [
    "seg_source = client.info.segmentation_source()\n",
    "\n",
    "#using the google cloud segmentation path\n",
    "cv = cloudvolume.CloudVolume(\"precomputed://gs://iarpa_microns/minnie/minnie65/seg\", use_https=True)\n",
    "\n",
    "#you can also try the aws segmentation path\n",
    "#cv = cloudvolume.CloudVolume(\"precomputed://s3://bossdb-open-data/microns/minnie/minnie65-flat-seg/\", use_https=True)\n",
    "\n",
    "mesh = cv.mesh.get(cellid,lod=3)[cellid]\n",
    "poly_data = trimesh_vtk.trimesh_to_vtk(mesh.vertices, mesh.faces, None)\n",
    "\n",
    "#setting up an itkwidgets viewer\n",
    "viewer=itkwidgets.view(geometries=[poly_data])\n",
    "\n"
   ]
  },
  {
   "cell_type": "code",
   "execution_count": null,
   "metadata": {},
   "outputs": [],
   "source": [
    "viewer"
   ]
  },
  {
   "cell_type": "code",
   "execution_count": null,
   "metadata": {},
   "outputs": [],
   "source": [
    "post_synapse_df = client.materialize.synapse_query(post_ids = np.array([cellid]))\n",
    "biggest_synapses = post_synapse_df.sort_values(by=['size'],ascending=False).head(10)\n",
    "print(biggest_synapses[['pre_pt_root_id', 'size']])\n"
   ]
  },
  {
   "cell_type": "markdown",
   "metadata": {},
   "source": [
    "<div style=\"background: #DFF0D8; border-radius: 3px; padding: 10px;\">\n",
    "</b> Lastly we will visualize the cell and these 10 synapses, please note that you need to increase the size of the synapses using the slider in the widget tool\n",
    "        </div>"
   ]
  },
  {
   "cell_type": "code",
   "execution_count": null,
   "metadata": {},
   "outputs": [],
   "source": [
    "#mm = trimesh_io.MeshMeta(disk_cache_path='test/test_files')\n",
    "#mesh = mm.mesh(filename ='/data/dynamic_brain_workshop/electron_microscopy/2021/meshes/%d.h5'%cellid)\n",
    "mesh_poly =trimesh_vtk.trimesh_to_vtk(mesh.vertices,mesh.faces,None)\n",
    "\n",
    "poly_data = trimesh_vtk.trimesh_to_vtk(mesh.vertices, mesh.faces, None)\n",
    "\n",
    "voxel_resolution = np.array([4,4,40])#setting the voxel resolution to convert to nm\n",
    "syn_pts = np.vstack(biggest_synapses['ctr_pt_position'].values) * voxel_resolution\n",
    "syn_sizes = biggest_synapses['size']\n",
    "syn_actors = trimesh_vtk.point_cloud_actor(syn_pts, size=syn_sizes.values)\n",
    "viewer2 =itkwidgets.view(geometries=[poly_data],\n",
    "                        point_sets = [syn_pts],\n",
    "                        point_sets_colors = ['b'])\n",
    "\n"
   ]
  },
  {
   "cell_type": "code",
   "execution_count": null,
   "metadata": {
    "scrolled": false
   },
   "outputs": [],
   "source": [
    "#when visualizing the synapses, they will initially appear very small, be sure to increase the size of the \n",
    "#synapses using the sliding bar under Point Set 0. You can also change the color using color map in the widget\n",
    "#You should be able to see a pyramidal neuron with 10 points indicating where it receives its 10 largest synapses\n",
    "viewer2"
   ]
  },
  {
   "cell_type": "code",
   "execution_count": null,
   "metadata": {},
   "outputs": [],
   "source": []
  }
 ],
 "metadata": {
  "kernelspec": {
   "display_name": "Python 3",
   "language": "python",
   "name": "python3"
  },
  "language_info": {
   "codemirror_mode": {
    "name": "ipython",
    "version": 3
   },
   "file_extension": ".py",
   "mimetype": "text/x-python",
   "name": "python",
   "nbconvert_exporter": "python",
   "pygments_lexer": "ipython3",
   "version": "3.7.10"
  }
 },
 "nbformat": 4,
 "nbformat_minor": 2
}
